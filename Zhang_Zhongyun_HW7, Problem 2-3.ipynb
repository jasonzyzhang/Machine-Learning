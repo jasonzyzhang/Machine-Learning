{
 "cells": [
  {
   "cell_type": "markdown",
   "metadata": {},
   "source": [
    "# Problem 2"
   ]
  },
  {
   "cell_type": "code",
   "execution_count": 2,
   "metadata": {},
   "outputs": [],
   "source": [
    "import numpy as np\n",
    "import pandas as pd\n",
    "import matplotlib.pyplot as plt"
   ]
  },
  {
   "cell_type": "markdown",
   "metadata": {},
   "source": [
    "### (a)"
   ]
  },
  {
   "cell_type": "code",
   "execution_count": 3,
   "metadata": {},
   "outputs": [],
   "source": [
    "data = np.genfromtxt('babies.data', names=True)\n",
    "data = pd.DataFrame(data)"
   ]
  },
  {
   "cell_type": "code",
   "execution_count": 4,
   "metadata": {},
   "outputs": [],
   "source": [
    "data.smoke = np.where(data.smoke==9, np.nan, data.smoke)\n",
    "data.bwt = np.where(data.bwt==999, np.nan, data.bwt)\n",
    "data.gestation = np.where(data.gestation==999, np.nan, data.gestation)"
   ]
  },
  {
   "cell_type": "code",
   "execution_count": 26,
   "metadata": {},
   "outputs": [],
   "source": [
    "data.dropna(inplace=True)"
   ]
  },
  {
   "cell_type": "code",
   "execution_count": 30,
   "metadata": {},
   "outputs": [],
   "source": [
    "smokers = data[data.smoke==1]\n",
    "nonsmokers = data[data.smoke==0]"
   ]
  },
  {
   "cell_type": "code",
   "execution_count": 6,
   "metadata": {},
   "outputs": [
    {
     "data": {
      "text/plain": [
       "114.10950413223141"
      ]
     },
     "execution_count": 6,
     "metadata": {},
     "output_type": "execute_result"
    }
   ],
   "source": [
    "np.mean(smokers.bwt)"
   ]
  },
  {
   "cell_type": "code",
   "execution_count": 7,
   "metadata": {},
   "outputs": [
    {
     "data": {
      "text/plain": [
       "123.04716981132076"
      ]
     },
     "execution_count": 7,
     "metadata": {},
     "output_type": "execute_result"
    }
   ],
   "source": [
    "np.mean(nonsmokers.bwt)"
   ]
  },
  {
   "cell_type": "code",
   "execution_count": 8,
   "metadata": {},
   "outputs": [
    {
     "data": {
      "text/plain": [
       "8.93766567908935"
      ]
     },
     "execution_count": 8,
     "metadata": {},
     "output_type": "execute_result"
    }
   ],
   "source": [
    "np.mean(nonsmokers.bwt)-np.mean(smokers.bwt)"
   ]
  },
  {
   "cell_type": "code",
   "execution_count": 9,
   "metadata": {},
   "outputs": [],
   "source": [
    "# there seems to be a difference between the average weights of babies of nonsmoking mothers and smoking mothers,\n",
    "# nonsmoking mothers' babies have higher weights than babies of smoking mothers"
   ]
  },
  {
   "cell_type": "markdown",
   "metadata": {},
   "source": [
    "### (b)"
   ]
  },
  {
   "cell_type": "code",
   "execution_count": 10,
   "metadata": {},
   "outputs": [],
   "source": [
    "def permutation_sample(data_A, data_B):\n",
    "    data = np.concatenate([data_A, data_B])\n",
    "    permuted_data = np.random.permutation(data)\n",
    "    permuted_A = permuted_data[:len(data_A)]\n",
    "    permuted_B = permuted_data[len(data_B):]\n",
    "    return permuted_A, permuted_B"
   ]
  },
  {
   "cell_type": "code",
   "execution_count": 11,
   "metadata": {},
   "outputs": [],
   "source": [
    "def diff_of_means(data_A, data_B):\n",
    "    diff = np.mean(data_A) - np.mean(data_B)\n",
    "    return diff"
   ]
  },
  {
   "cell_type": "code",
   "execution_count": 12,
   "metadata": {},
   "outputs": [],
   "source": [
    "empirical_diff_means = np.mean(nonsmokers.bwt)-np.mean(smokers.bwt)\n",
    "\n",
    "perm_replicates = np.empty(10000)\n",
    "for i in range(10000):\n",
    "    perm_A, perm_B = permutation_sample(nonsmokers.bwt, smokers.bwt)\n",
    "    perm_replicates[i] = diff_of_means(perm_A, perm_B)"
   ]
  },
  {
   "cell_type": "code",
   "execution_count": 14,
   "metadata": {},
   "outputs": [
    {
     "data": {
      "image/png": "[encoded data removed]",
      "text/plain": [
       "<Figure size 432x288 with 1 Axes>"
      ]
     },
     "metadata": {
      "needs_background": "light"
     },
     "output_type": "display_data"
    }
   ],
   "source": [
    "plt.axvline(x=empirical_diff_means,color='r',linestyle='--')\n",
    "plt.hist(perm_replicates, bins = 1000)\n",
    "plt.xlabel(\"Difference in the means\")\n",
    "plt.ylabel(\"Counts\")\n",
    "plt.show()"
   ]
  },
  {
   "cell_type": "code",
   "execution_count": 15,
   "metadata": {},
   "outputs": [
    {
     "name": "stdout",
     "output_type": "stream",
     "text": [
      "p-value = 0.0\n"
     ]
    }
   ],
   "source": [
    "p = np.sum(perm_replicates > empirical_diff_means) / len(perm_replicates)\n",
    "print('p-value =', p)"
   ]
  },
  {
   "cell_type": "code",
   "execution_count": null,
   "metadata": {},
   "outputs": [],
   "source": [
    "# it is possible that we conduct more permutations so that at least one result will be larger than the empirical\n",
    "# difference means although it may still be very close to zero"
   ]
  },
  {
   "cell_type": "markdown",
   "metadata": {},
   "source": [
    "### (d)"
   ]
  },
  {
   "cell_type": "code",
   "execution_count": 16,
   "metadata": {},
   "outputs": [],
   "source": [
    "empirical_diff_means = np.mean(nonsmokers.age)-np.mean(smokers.age)\n",
    "\n",
    "perm_replicates = np.empty(10000)\n",
    "for i in range(10000):\n",
    "    perm_A, perm_B = permutation_sample(nonsmokers.age, smokers.age)\n",
    "    perm_replicates[i] = diff_of_means(perm_A, perm_B)"
   ]
  },
  {
   "cell_type": "code",
   "execution_count": 17,
   "metadata": {},
   "outputs": [
    {
     "data": {
      "image/png": "[encoded data removed]",
      "text/plain": [
       "<Figure size 432x288 with 1 Axes>"
      ]
     },
     "metadata": {
      "needs_background": "light"
     },
     "output_type": "display_data"
    },
    {
     "name": "stdout",
     "output_type": "stream",
     "text": [
      "p-value = 0.0015\n"
     ]
    }
   ],
   "source": [
    "plt.axvline(x=empirical_diff_means,color='r',linestyle='--')\n",
    "plt.hist(perm_replicates, bins = 1000)\n",
    "plt.xlabel(\"Difference in the means\")\n",
    "plt.ylabel(\"Counts\")\n",
    "plt.show()\n",
    "\n",
    "p = np.sum(perm_replicates > empirical_diff_means) / len(perm_replicates)\n",
    "print('p-value =', p)"
   ]
  },
  {
   "cell_type": "markdown",
   "metadata": {},
   "source": [
    "### (e) "
   ]
  },
  {
   "cell_type": "code",
   "execution_count": 31,
   "metadata": {},
   "outputs": [],
   "source": [
    "empirical_diff_means = np.mean(nonsmokers.gestation)-np.mean(smokers.gestation)\n",
    "\n",
    "perm_replicates = np.empty(10000)\n",
    "for i in range(10000):\n",
    "    perm_A, perm_B = permutation_sample(nonsmokers.gestation, smokers.gestation)\n",
    "    perm_replicates[i] = diff_of_means(perm_A, perm_B)"
   ]
  },
  {
   "cell_type": "code",
   "execution_count": 32,
   "metadata": {},
   "outputs": [
    {
     "data": {
      "image/png": "[encoded data removed]",
      "text/plain": [
       "<Figure size 432x288 with 1 Axes>"
      ]
     },
     "metadata": {
      "needs_background": "light"
     },
     "output_type": "display_data"
    },
    {
     "name": "stdout",
     "output_type": "stream",
     "text": [
      "p-value = 0.0011\n"
     ]
    }
   ],
   "source": [
    "plt.axvline(x=empirical_diff_means,color='r',linestyle='--')\n",
    "plt.hist(perm_replicates, bins = 1000)\n",
    "plt.xlabel(\"Difference in the means\")\n",
    "plt.ylabel(\"Counts\")\n",
    "plt.show()\n",
    "\n",
    "p = np.sum(perm_replicates > empirical_diff_means) / len(perm_replicates)\n",
    "print('p-value =', p)"
   ]
  },
  {
   "cell_type": "markdown",
   "metadata": {},
   "source": [
    "### (f)"
   ]
  },
  {
   "cell_type": "code",
   "execution_count": null,
   "metadata": {},
   "outputs": [],
   "source": [
    "# the p-value is mostly about the probability of observing the values when the null hypothesis\n",
    "# is true, so it may not be appropriate to do so using the p-values obtained above alone."
   ]
  },
  {
   "cell_type": "markdown",
   "metadata": {},
   "source": [
    "# Problem 3"
   ]
  },
  {
   "cell_type": "markdown",
   "metadata": {},
   "source": [
    "### (a)"
   ]
  },
  {
   "cell_type": "raw",
   "metadata": {},
   "source": [
    "The favorite topic in the class is neural networks"
   ]
  },
  {
   "cell_type": "markdown",
   "metadata": {},
   "source": [
    "### (b) "
   ]
  },
  {
   "cell_type": "markdown",
   "metadata": {},
   "source": [
    "Logistic regression is more difficult than other topics and is more challenging"
   ]
  },
  {
   "cell_type": "markdown",
   "metadata": {},
   "source": [
    "### (c)"
   ]
  },
  {
   "cell_type": "markdown",
   "metadata": {},
   "source": [
    "Maybe add analysis for time-series data?"
   ]
  },
  {
   "cell_type": "markdown",
   "metadata": {},
   "source": [
    "### (d) "
   ]
  },
  {
   "cell_type": "markdown",
   "metadata": {},
   "source": [
    "To safely go to more restaurant to eat"
   ]
  }
 ],
 "metadata": {
  "kernelspec": {
   "display_name": "Python 3",
   "language": "python",
   "name": "python3"
  },
  "language_info": {
   "codemirror_mode": {
    "name": "ipython",
    "version": 3
   },
   "file_extension": ".py",
   "mimetype": "text/x-python",
   "name": "python",
   "nbconvert_exporter": "python",
   "pygments_lexer": "ipython3",
   "version": "3.8.3"
  }
 },
 "nbformat": 4,
 "nbformat_minor": 4
}
