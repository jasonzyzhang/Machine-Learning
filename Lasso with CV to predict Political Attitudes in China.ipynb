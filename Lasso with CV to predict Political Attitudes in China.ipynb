{
 "cells": [
  {
   "cell_type": "markdown",
   "metadata": {},
   "source": [
    "# PART I. Data Cleaning and Data Manipulation"
   ]
  },
  {
   "cell_type": "code",
   "execution_count": 836,
   "metadata": {},
   "outputs": [],
   "source": [
    "import numpy as np\n",
    "import pandas as pd\n",
    "import matplotlib.pyplot as plt"
   ]
  },
  {
   "cell_type": "code",
   "execution_count": 837,
   "metadata": {},
   "outputs": [],
   "source": [
    "import pyreadstat\n",
    "data, meta = pyreadstat.read_sav('W4_China_merged20181206.sav')"
   ]
  },
  {
   "cell_type": "code",
   "execution_count": 838,
   "metadata": {},
   "outputs": [
    {
     "data": {
      "text/html": [
       "<div>\n",
       "<style scoped>\n",
       "    .dataframe tbody tr th:only-of-type {\n",
       "        vertical-align: middle;\n",
       "    }\n",
       "\n",
       "    .dataframe tbody tr th {\n",
       "        vertical-align: top;\n",
       "    }\n",
       "\n",
       "    .dataframe thead th {\n",
       "        text-align: right;\n",
       "    }\n",
       "</style>\n",
       "<table border=\"1\" class=\"dataframe\">\n",
       "  <thead>\n",
       "    <tr style=\"text-align: right;\">\n",
       "      <th></th>\n",
       "      <th>country</th>\n",
       "      <th>year</th>\n",
       "      <th>month</th>\n",
       "      <th>idnumber</th>\n",
       "      <th>region</th>\n",
       "      <th>level</th>\n",
       "      <th>q1</th>\n",
       "      <th>q2</th>\n",
       "      <th>q3</th>\n",
       "      <th>q4</th>\n",
       "      <th>...</th>\n",
       "      <th>ir12c</th>\n",
       "      <th>ir12d</th>\n",
       "      <th>ir12e</th>\n",
       "      <th>ir12f</th>\n",
       "      <th>ir12g</th>\n",
       "      <th>ir12h</th>\n",
       "      <th>ir12i</th>\n",
       "      <th>ir12j</th>\n",
       "      <th>ir13</th>\n",
       "      <th>w</th>\n",
       "    </tr>\n",
       "  </thead>\n",
       "  <tbody>\n",
       "    <tr>\n",
       "      <th>0</th>\n",
       "      <td>4.0</td>\n",
       "      <td>2015.0</td>\n",
       "      <td>7.0</td>\n",
       "      <td>4341112.0</td>\n",
       "      <td>404.0</td>\n",
       "      <td>1.0</td>\n",
       "      <td>2.0</td>\n",
       "      <td>2.0</td>\n",
       "      <td>8.0</td>\n",
       "      <td>5.0</td>\n",
       "      <td>...</td>\n",
       "      <td>4.0</td>\n",
       "      <td>3.0</td>\n",
       "      <td>4.0</td>\n",
       "      <td>3.0</td>\n",
       "      <td>4.0</td>\n",
       "      <td>4.0</td>\n",
       "      <td>4.0</td>\n",
       "      <td>4.0</td>\n",
       "      <td>4.0</td>\n",
       "      <td>0.599908</td>\n",
       "    </tr>\n",
       "    <tr>\n",
       "      <th>1</th>\n",
       "      <td>4.0</td>\n",
       "      <td>2015.0</td>\n",
       "      <td>11.0</td>\n",
       "      <td>1112103.0</td>\n",
       "      <td>401.0</td>\n",
       "      <td>2.0</td>\n",
       "      <td>4.0</td>\n",
       "      <td>1.0</td>\n",
       "      <td>2.0</td>\n",
       "      <td>3.0</td>\n",
       "      <td>...</td>\n",
       "      <td>3.0</td>\n",
       "      <td>3.0</td>\n",
       "      <td>3.0</td>\n",
       "      <td>3.0</td>\n",
       "      <td>3.0</td>\n",
       "      <td>2.0</td>\n",
       "      <td>3.0</td>\n",
       "      <td>3.0</td>\n",
       "      <td>1.0</td>\n",
       "      <td>1.756016</td>\n",
       "    </tr>\n",
       "    <tr>\n",
       "      <th>2</th>\n",
       "      <td>4.0</td>\n",
       "      <td>2015.0</td>\n",
       "      <td>10.0</td>\n",
       "      <td>1112214.0</td>\n",
       "      <td>401.0</td>\n",
       "      <td>2.0</td>\n",
       "      <td>1.0</td>\n",
       "      <td>1.0</td>\n",
       "      <td>1.0</td>\n",
       "      <td>1.0</td>\n",
       "      <td>...</td>\n",
       "      <td>4.0</td>\n",
       "      <td>3.0</td>\n",
       "      <td>4.0</td>\n",
       "      <td>3.0</td>\n",
       "      <td>4.0</td>\n",
       "      <td>4.0</td>\n",
       "      <td>4.0</td>\n",
       "      <td>3.0</td>\n",
       "      <td>1.0</td>\n",
       "      <td>0.675596</td>\n",
       "    </tr>\n",
       "    <tr>\n",
       "      <th>3</th>\n",
       "      <td>4.0</td>\n",
       "      <td>2015.0</td>\n",
       "      <td>11.0</td>\n",
       "      <td>1121110.0</td>\n",
       "      <td>401.0</td>\n",
       "      <td>2.0</td>\n",
       "      <td>2.0</td>\n",
       "      <td>2.0</td>\n",
       "      <td>1.0</td>\n",
       "      <td>3.0</td>\n",
       "      <td>...</td>\n",
       "      <td>1.0</td>\n",
       "      <td>1.0</td>\n",
       "      <td>1.0</td>\n",
       "      <td>1.0</td>\n",
       "      <td>1.0</td>\n",
       "      <td>1.0</td>\n",
       "      <td>1.0</td>\n",
       "      <td>1.0</td>\n",
       "      <td>1.0</td>\n",
       "      <td>1.756016</td>\n",
       "    </tr>\n",
       "    <tr>\n",
       "      <th>4</th>\n",
       "      <td>4.0</td>\n",
       "      <td>2015.0</td>\n",
       "      <td>10.0</td>\n",
       "      <td>1121111.0</td>\n",
       "      <td>401.0</td>\n",
       "      <td>2.0</td>\n",
       "      <td>2.0</td>\n",
       "      <td>2.0</td>\n",
       "      <td>3.0</td>\n",
       "      <td>3.0</td>\n",
       "      <td>...</td>\n",
       "      <td>1.0</td>\n",
       "      <td>1.0</td>\n",
       "      <td>1.0</td>\n",
       "      <td>1.0</td>\n",
       "      <td>1.0</td>\n",
       "      <td>1.0</td>\n",
       "      <td>1.0</td>\n",
       "      <td>1.0</td>\n",
       "      <td>1.0</td>\n",
       "      <td>1.389279</td>\n",
       "    </tr>\n",
       "    <tr>\n",
       "      <th>...</th>\n",
       "      <td>...</td>\n",
       "      <td>...</td>\n",
       "      <td>...</td>\n",
       "      <td>...</td>\n",
       "      <td>...</td>\n",
       "      <td>...</td>\n",
       "      <td>...</td>\n",
       "      <td>...</td>\n",
       "      <td>...</td>\n",
       "      <td>...</td>\n",
       "      <td>...</td>\n",
       "      <td>...</td>\n",
       "      <td>...</td>\n",
       "      <td>...</td>\n",
       "      <td>...</td>\n",
       "      <td>...</td>\n",
       "      <td>...</td>\n",
       "      <td>...</td>\n",
       "      <td>...</td>\n",
       "      <td>...</td>\n",
       "      <td>...</td>\n",
       "    </tr>\n",
       "    <tr>\n",
       "      <th>4063</th>\n",
       "      <td>4.0</td>\n",
       "      <td>2015.0</td>\n",
       "      <td>7.0</td>\n",
       "      <td>6222202.0</td>\n",
       "      <td>406.0</td>\n",
       "      <td>2.0</td>\n",
       "      <td>2.0</td>\n",
       "      <td>2.0</td>\n",
       "      <td>2.0</td>\n",
       "      <td>2.0</td>\n",
       "      <td>...</td>\n",
       "      <td>1.0</td>\n",
       "      <td>1.0</td>\n",
       "      <td>1.0</td>\n",
       "      <td>1.0</td>\n",
       "      <td>2.0</td>\n",
       "      <td>2.0</td>\n",
       "      <td>2.0</td>\n",
       "      <td>1.0</td>\n",
       "      <td>1.0</td>\n",
       "      <td>0.754591</td>\n",
       "    </tr>\n",
       "    <tr>\n",
       "      <th>4064</th>\n",
       "      <td>4.0</td>\n",
       "      <td>2015.0</td>\n",
       "      <td>7.0</td>\n",
       "      <td>6222203.0</td>\n",
       "      <td>406.0</td>\n",
       "      <td>2.0</td>\n",
       "      <td>2.0</td>\n",
       "      <td>1.0</td>\n",
       "      <td>3.0</td>\n",
       "      <td>3.0</td>\n",
       "      <td>...</td>\n",
       "      <td>1.0</td>\n",
       "      <td>1.0</td>\n",
       "      <td>1.0</td>\n",
       "      <td>1.0</td>\n",
       "      <td>2.0</td>\n",
       "      <td>2.0</td>\n",
       "      <td>2.0</td>\n",
       "      <td>1.0</td>\n",
       "      <td>1.0</td>\n",
       "      <td>0.754591</td>\n",
       "    </tr>\n",
       "    <tr>\n",
       "      <th>4065</th>\n",
       "      <td>4.0</td>\n",
       "      <td>2015.0</td>\n",
       "      <td>7.0</td>\n",
       "      <td>6222215.0</td>\n",
       "      <td>406.0</td>\n",
       "      <td>2.0</td>\n",
       "      <td>2.0</td>\n",
       "      <td>2.0</td>\n",
       "      <td>8.0</td>\n",
       "      <td>3.0</td>\n",
       "      <td>...</td>\n",
       "      <td>1.0</td>\n",
       "      <td>1.0</td>\n",
       "      <td>1.0</td>\n",
       "      <td>1.0</td>\n",
       "      <td>2.0</td>\n",
       "      <td>2.0</td>\n",
       "      <td>2.0</td>\n",
       "      <td>1.0</td>\n",
       "      <td>1.0</td>\n",
       "      <td>0.435997</td>\n",
       "    </tr>\n",
       "    <tr>\n",
       "      <th>4066</th>\n",
       "      <td>4.0</td>\n",
       "      <td>2015.0</td>\n",
       "      <td>7.0</td>\n",
       "      <td>6231112.0</td>\n",
       "      <td>406.0</td>\n",
       "      <td>1.0</td>\n",
       "      <td>8.0</td>\n",
       "      <td>2.0</td>\n",
       "      <td>1.0</td>\n",
       "      <td>4.0</td>\n",
       "      <td>...</td>\n",
       "      <td>-1.0</td>\n",
       "      <td>3.0</td>\n",
       "      <td>4.0</td>\n",
       "      <td>3.0</td>\n",
       "      <td>2.0</td>\n",
       "      <td>2.0</td>\n",
       "      <td>3.0</td>\n",
       "      <td>3.0</td>\n",
       "      <td>4.0</td>\n",
       "      <td>0.428662</td>\n",
       "    </tr>\n",
       "    <tr>\n",
       "      <th>4067</th>\n",
       "      <td>4.0</td>\n",
       "      <td>2015.0</td>\n",
       "      <td>7.0</td>\n",
       "      <td>6232202.0</td>\n",
       "      <td>406.0</td>\n",
       "      <td>1.0</td>\n",
       "      <td>2.0</td>\n",
       "      <td>2.0</td>\n",
       "      <td>8.0</td>\n",
       "      <td>4.0</td>\n",
       "      <td>...</td>\n",
       "      <td>3.0</td>\n",
       "      <td>3.0</td>\n",
       "      <td>3.0</td>\n",
       "      <td>3.0</td>\n",
       "      <td>3.0</td>\n",
       "      <td>-1.0</td>\n",
       "      <td>3.0</td>\n",
       "      <td>3.0</td>\n",
       "      <td>4.0</td>\n",
       "      <td>0.780896</td>\n",
       "    </tr>\n",
       "  </tbody>\n",
       "</table>\n",
       "<p>4068 rows × 288 columns</p>\n",
       "</div>"
      ],
      "text/plain": [
       "      country    year  month   idnumber  region  level   q1   q2   q3   q4  \\\n",
       "0         4.0  2015.0    7.0  4341112.0   404.0    1.0  2.0  2.0  8.0  5.0   \n",
       "1         4.0  2015.0   11.0  1112103.0   401.0    2.0  4.0  1.0  2.0  3.0   \n",
       "2         4.0  2015.0   10.0  1112214.0   401.0    2.0  1.0  1.0  1.0  1.0   \n",
       "3         4.0  2015.0   11.0  1121110.0   401.0    2.0  2.0  2.0  1.0  3.0   \n",
       "4         4.0  2015.0   10.0  1121111.0   401.0    2.0  2.0  2.0  3.0  3.0   \n",
       "...       ...     ...    ...        ...     ...    ...  ...  ...  ...  ...   \n",
       "4063      4.0  2015.0    7.0  6222202.0   406.0    2.0  2.0  2.0  2.0  2.0   \n",
       "4064      4.0  2015.0    7.0  6222203.0   406.0    2.0  2.0  1.0  3.0  3.0   \n",
       "4065      4.0  2015.0    7.0  6222215.0   406.0    2.0  2.0  2.0  8.0  3.0   \n",
       "4066      4.0  2015.0    7.0  6231112.0   406.0    1.0  8.0  2.0  1.0  4.0   \n",
       "4067      4.0  2015.0    7.0  6232202.0   406.0    1.0  2.0  2.0  8.0  4.0   \n",
       "\n",
       "      ...  ir12c  ir12d  ir12e  ir12f  ir12g  ir12h  ir12i  ir12j  ir13  \\\n",
       "0     ...    4.0    3.0    4.0    3.0    4.0    4.0    4.0    4.0   4.0   \n",
       "1     ...    3.0    3.0    3.0    3.0    3.0    2.0    3.0    3.0   1.0   \n",
       "2     ...    4.0    3.0    4.0    3.0    4.0    4.0    4.0    3.0   1.0   \n",
       "3     ...    1.0    1.0    1.0    1.0    1.0    1.0    1.0    1.0   1.0   \n",
       "4     ...    1.0    1.0    1.0    1.0    1.0    1.0    1.0    1.0   1.0   \n",
       "...   ...    ...    ...    ...    ...    ...    ...    ...    ...   ...   \n",
       "4063  ...    1.0    1.0    1.0    1.0    2.0    2.0    2.0    1.0   1.0   \n",
       "4064  ...    1.0    1.0    1.0    1.0    2.0    2.0    2.0    1.0   1.0   \n",
       "4065  ...    1.0    1.0    1.0    1.0    2.0    2.0    2.0    1.0   1.0   \n",
       "4066  ...   -1.0    3.0    4.0    3.0    2.0    2.0    3.0    3.0   4.0   \n",
       "4067  ...    3.0    3.0    3.0    3.0    3.0   -1.0    3.0    3.0   4.0   \n",
       "\n",
       "             w  \n",
       "0     0.599908  \n",
       "1     1.756016  \n",
       "2     0.675596  \n",
       "3     1.756016  \n",
       "4     1.389279  \n",
       "...        ...  \n",
       "4063  0.754591  \n",
       "4064  0.754591  \n",
       "4065  0.435997  \n",
       "4066  0.428662  \n",
       "4067  0.780896  \n",
       "\n",
       "[4068 rows x 288 columns]"
      ]
     },
     "execution_count": 838,
     "metadata": {},
     "output_type": "execute_result"
    }
   ],
   "source": [
    "data"
   ]
  },
  {
   "cell_type": "code",
   "execution_count": 839,
   "metadata": {},
   "outputs": [
    {
     "data": {
      "text/plain": [
       "51.0    118\n",
       "48.0    108\n",
       "53.0    104\n",
       "50.0    103\n",
       "54.0    102\n",
       "       ... \n",
       "85.0      4\n",
       "88.0      3\n",
       "87.0      2\n",
       "90.0      1\n",
       "95.0      1\n",
       "Name: se3_2, Length: 76, dtype: int64"
      ]
     },
     "execution_count": 839,
     "metadata": {},
     "output_type": "execute_result"
    }
   ],
   "source": [
    "# ACTUAL AGE\n",
    "data.se3_2.value_counts()"
   ]
  },
  {
   "cell_type": "code",
   "execution_count": 840,
   "metadata": {},
   "outputs": [],
   "source": [
    "data['age'] = data.se3_2"
   ]
  },
  {
   "cell_type": "code",
   "execution_count": 841,
   "metadata": {},
   "outputs": [
    {
     "data": {
      "text/plain": [
       "2.0    2080\n",
       "1.0    1988\n",
       "Name: se2, dtype: int64"
      ]
     },
     "execution_count": 841,
     "metadata": {},
     "output_type": "execute_result"
    }
   ],
   "source": [
    "#Gender\n",
    "#Male 1\n",
    "#Female 2\n",
    "data.se2.value_counts()"
   ]
  },
  {
   "cell_type": "code",
   "execution_count": 842,
   "metadata": {},
   "outputs": [],
   "source": [
    "data['gender'] = data.se2-1"
   ]
  },
  {
   "cell_type": "raw",
   "metadata": {},
   "source": [
    "What is your marital status?\n",
    "    Single/Never married 1\n",
    "    Married 2\n",
    "    Living-in as married 3\n",
    "    Widowed 4\n",
    "    Separated/Married but separated/ not living\n",
    "    with legal spouse 5\n",
    "    Divorced 6\n",
    "    [Do not read]Decline to answer 9"
   ]
  },
  {
   "cell_type": "code",
   "execution_count": 843,
   "metadata": {},
   "outputs": [
    {
     "data": {
      "text/plain": [
       "2.0    3324\n",
       "1.0     413\n",
       "4.0     265\n",
       "5.0      32\n",
       "9.0      18\n",
       "3.0      16\n",
       "Name: se4, dtype: int64"
      ]
     },
     "execution_count": 843,
     "metadata": {},
     "output_type": "execute_result"
    }
   ],
   "source": [
    "data.se4.value_counts()"
   ]
  },
  {
   "cell_type": "code",
   "execution_count": 844,
   "metadata": {},
   "outputs": [],
   "source": [
    "data['single'] = np.where(data.se4==2, 0, 1)"
   ]
  },
  {
   "cell_type": "code",
   "execution_count": 845,
   "metadata": {},
   "outputs": [
    {
     "data": {
      "text/plain": [
       "9.0     653\n",
       "0.0     558\n",
       "6.0     373\n",
       "8.0     367\n",
       "12.0    363\n",
       "5.0     333\n",
       "3.0     177\n",
       "7.0     169\n",
       "16.0    164\n",
       "4.0     148\n",
       "15.0    127\n",
       "2.0     125\n",
       "11.0    111\n",
       "10.0     94\n",
       "14.0     70\n",
       "13.0     66\n",
       "99.0     65\n",
       "1.0      62\n",
       "18.0     13\n",
       "17.0     13\n",
       "20.0     10\n",
       "19.0      6\n",
       "22.0      1\n",
       "Name: se5a, dtype: int64"
      ]
     },
     "execution_count": 845,
     "metadata": {},
     "output_type": "execute_result"
    }
   ],
   "source": [
    "#years of education, 99 is NA\n",
    "data.se5a.value_counts()"
   ]
  },
  {
   "cell_type": "code",
   "execution_count": 846,
   "metadata": {},
   "outputs": [],
   "source": [
    "data['education'] = np.where(data.se5a!=99,data.se5a,np.median(data.se5a[data.se5a!=99]))"
   ]
  },
  {
   "cell_type": "markdown",
   "metadata": {},
   "source": [
    "SE7a Would you describe yourself as very religious, moderately\n",
    "religious, lightly religious, not religious at all?\n",
    "[Ask this question regardless how one answers SE7.]\n",
    "\n",
    "Very religious 1\n",
    "Moderately religious 2\n",
    "Lightly religious 3\n",
    "Not religious at all 4\n",
    "[Do not read] Decline to answer 9"
   ]
  },
  {
   "cell_type": "code",
   "execution_count": 847,
   "metadata": {},
   "outputs": [
    {
     "data": {
      "text/plain": [
       "0.0    3458\n",
       "3.0     258\n",
       "2.0     199\n",
       "1.0      72\n",
       "9.0      70\n",
       "4.0      11\n",
       "Name: se7a, dtype: int64"
      ]
     },
     "execution_count": 847,
     "metadata": {},
     "output_type": "execute_result"
    }
   ],
   "source": [
    "data.se7a.value_counts()"
   ]
  },
  {
   "cell_type": "code",
   "execution_count": 848,
   "metadata": {},
   "outputs": [
    {
     "data": {
      "text/plain": [
       "0    3797\n",
       "1     271\n",
       "Name: religiosity, dtype: int64"
      ]
     },
     "execution_count": 848,
     "metadata": {},
     "output_type": "execute_result"
    }
   ],
   "source": [
    "data['religiosity'] = np.where((data.se7a<3)&(data.se7a!=9)&(data.se7a>0), 1, 0)\n",
    "data['religiosity'].value_counts()"
   ]
  },
  {
   "cell_type": "markdown",
   "metadata": {},
   "source": [
    "SE9e. What is your current status?\n",
    "□ 01. Homemaker □ 02. Student □ 03. Retired\n",
    "□ 04. Person with disabilities □ 05. Unemployed □ 06. Other _____"
   ]
  },
  {
   "cell_type": "code",
   "execution_count": 849,
   "metadata": {},
   "outputs": [
    {
     "data": {
      "text/plain": [
       " 0.0    3151\n",
       " 1.0     326\n",
       " 3.0     325\n",
       " 2.0     137\n",
       " 5.0     112\n",
       " 4.0       7\n",
       " 6.0       7\n",
       "-1.0       3\n",
       "Name: se9e, dtype: int64"
      ]
     },
     "execution_count": 849,
     "metadata": {},
     "output_type": "execute_result"
    }
   ],
   "source": [
    "data.se9e.value_counts()"
   ]
  },
  {
   "cell_type": "code",
   "execution_count": 850,
   "metadata": {},
   "outputs": [
    {
     "data": {
      "text/plain": [
       "0    3956\n",
       "1     112\n",
       "Name: unemployment, dtype: int64"
      ]
     },
     "execution_count": 850,
     "metadata": {},
     "output_type": "execute_result"
    }
   ],
   "source": [
    "data['unemployment'] = np.where(data.se9e==5, 1, 0)\n",
    "data['unemployment'].value_counts()"
   ]
  },
  {
   "cell_type": "raw",
   "metadata": {},
   "source": [
    "SE14 ANNUAL OR MONTHLY HOUSEHOLD INCOME [REVISED, using quintiles]\n",
    "Here is a scale of household [fill in “annual” or “monthly”] incomes. We would like to know in what group your household on average is, counting all\n",
    "wages, salaries, pensions, dividends and other incomes that come in before taxes and other deduction. Just give the letter of the group your\n",
    "household falls into. (SHOWCARD)\n",
    "[Country teams are required to use quintiles based on official household income statistics. If country team wants to get exact figures from\n",
    "respondents, it should convert them back to quintiles in the end.]\n",
    "The Fifth Quintile, i.e, Lowest 20% (Less than P 5,500) 1\n",
    "The Fourth Quintile 20% (P 5,501 to P 10,000) 2\n",
    "The Third Quintile (P 10,001 to P 20,000) 3\n",
    "The Second Quintile (P 20,001 to P 40,000) 4\n",
    "The First Quintile, i.e.,Top 20% (P 40,001 and above) 5\n",
    "[Do not read] Decline to answer 9"
   ]
  },
  {
   "cell_type": "code",
   "execution_count": 851,
   "metadata": {},
   "outputs": [
    {
     "name": "stdout",
     "output_type": "stream",
     "text": [
      "9.0    1299\n",
      "1.0     935\n",
      "3.0     533\n",
      "2.0     444\n",
      "8.0     357\n",
      "5.0     262\n",
      "4.0     238\n",
      "Name: se14, dtype: int64\n"
     ]
    },
    {
     "data": {
      "text/plain": [
       "<matplotlib.axes._subplots.AxesSubplot at 0x188b24ba2b0>"
      ]
     },
     "execution_count": 851,
     "metadata": {},
     "output_type": "execute_result"
    },
    {
     "data": {
      "image/png": "[encoded data removed]",
      "text/plain": [
       "<Figure size 432x288 with 1 Axes>"
      ]
     },
     "metadata": {
      "needs_background": "light"
     },
     "output_type": "display_data"
    }
   ],
   "source": [
    "print(data.se14.value_counts())\n",
    "data.se14[data.se14<8].hist()"
   ]
  },
  {
   "cell_type": "code",
   "execution_count": 852,
   "metadata": {},
   "outputs": [
    {
     "data": {
      "text/plain": [
       "2.0"
      ]
     },
     "execution_count": 852,
     "metadata": {},
     "output_type": "execute_result"
    }
   ],
   "source": [
    "data.se14[data.se14<8].median()"
   ]
  },
  {
   "cell_type": "code",
   "execution_count": 853,
   "metadata": {},
   "outputs": [
    {
     "data": {
      "text/plain": [
       "2.0    2100\n",
       "1.0     935\n",
       "3.0     533\n",
       "5.0     262\n",
       "4.0     238\n",
       "Name: income, dtype: int64"
      ]
     },
     "execution_count": 853,
     "metadata": {},
     "output_type": "execute_result"
    }
   ],
   "source": [
    "data['income'] = np.where(data.se14>5,data.se14[data.se14<8].median(),data.se14)\n",
    "data['income'].value_counts()"
   ]
  },
  {
   "cell_type": "markdown",
   "metadata": {},
   "source": [
    "SE12 SUBJECTIVE SOCIAL STATUS\n",
    "People sometimes think of the social status of their families in terms of being high or low.\n",
    "Imagine a ladder with 10 steps. At step one stand the lowest status and step 10 stand the highest. Where would you place your family on the\n",
    "following scale? (SHOWCARD)\n",
    "Highest status 10\n",
    "Lowest status 01\n",
    "[Do not read] Can’t choose 98\n",
    "[Do not read] Decline to answer 99"
   ]
  },
  {
   "cell_type": "code",
   "execution_count": 854,
   "metadata": {},
   "outputs": [
    {
     "name": "stdout",
     "output_type": "stream",
     "text": [
      "5.0     1100\n",
      "6.0      605\n",
      "4.0      368\n",
      "3.0      359\n",
      "98.0     327\n",
      "7.0      313\n",
      "8.0      281\n",
      "2.0      215\n",
      "1.0      213\n",
      "10.0     108\n",
      "99.0      96\n",
      "9.0       83\n",
      "Name: se12, dtype: int64\n"
     ]
    },
    {
     "data": {
      "text/plain": [
       "<matplotlib.axes._subplots.AxesSubplot at 0x188b36afca0>"
      ]
     },
     "execution_count": 854,
     "metadata": {},
     "output_type": "execute_result"
    },
    {
     "data": {
      "image/png": "[encoded data removed]",
      "text/plain": [
       "<Figure size 432x288 with 1 Axes>"
      ]
     },
     "metadata": {
      "needs_background": "light"
     },
     "output_type": "display_data"
    }
   ],
   "source": [
    "print(data.se12.value_counts())\n",
    "data.se12[data.se12<11].hist()"
   ]
  },
  {
   "cell_type": "code",
   "execution_count": 855,
   "metadata": {},
   "outputs": [
    {
     "data": {
      "text/plain": [
       "<matplotlib.axes._subplots.AxesSubplot at 0x188b36a8550>"
      ]
     },
     "execution_count": 855,
     "metadata": {},
     "output_type": "execute_result"
    },
    {
     "data": {
      "image/png": "[encoded data removed]",
      "text/plain": [
       "<Figure size 432x288 with 1 Axes>"
      ]
     },
     "metadata": {
      "needs_background": "light"
     },
     "output_type": "display_data"
    }
   ],
   "source": [
    "data['sub_social_status'] = np.where(data.se12<11, data.se12, np.median(data.se12[data.se12<11]))\n",
    "data['sub_social_status'].hist()"
   ]
  },
  {
   "cell_type": "markdown",
   "metadata": {},
   "source": [
    "IR13. GEOGRAPHIC LOCATION\n",
    "Which of the following levels within the country the respondent live?\n",
    "Capital or Megacity (1 million population plus)……………………………………………..1\n",
    "Regional center or Other major cities (100,000 plus)……………………………………...2\n",
    "Small city or town (less than 100,000 people)………………………………………………3\n",
    "Village or countryside………………………………………………………………………….4"
   ]
  },
  {
   "cell_type": "code",
   "execution_count": 856,
   "metadata": {},
   "outputs": [
    {
     "data": {
      "text/plain": [
       " 4.0    2657\n",
       " 3.0     616\n",
       " 2.0     385\n",
       " 1.0     361\n",
       "-1.0      49\n",
       "Name: ir13, dtype: int64"
      ]
     },
     "execution_count": 856,
     "metadata": {},
     "output_type": "execute_result"
    }
   ],
   "source": [
    "data.ir13.value_counts()"
   ]
  },
  {
   "cell_type": "code",
   "execution_count": 857,
   "metadata": {},
   "outputs": [
    {
     "data": {
      "text/plain": [
       "1    2657\n",
       "0    1411\n",
       "Name: rural, dtype: int64"
      ]
     },
     "execution_count": 857,
     "metadata": {},
     "output_type": "execute_result"
    }
   ],
   "source": [
    "data['rural'] = np.where(data.ir13==4, 1, 0)\n",
    "data['rural'].value_counts()"
   ]
  },
  {
   "cell_type": "markdown",
   "metadata": {},
   "source": [
    "SE11a Racial or Ethnic Background (NEW)\n",
    "What's your racial (ethnic) background? Response categories to\n",
    "be designed by local teams (Note: If the respondent is born\n",
    "to a mixed family, we ask the father's side.)"
   ]
  },
  {
   "cell_type": "code",
   "execution_count": 858,
   "metadata": {},
   "outputs": [
    {
     "data": {
      "text/plain": [
       "401.0    3695\n",
       "430.0      61\n",
       "406.0      56\n",
       "434.0      30\n",
       "408.0      27\n",
       "499.0      27\n",
       "411.0      23\n",
       "413.0      21\n",
       "98.0       19\n",
       "420.0      18\n",
       "409.0      17\n",
       "412.0      16\n",
       "99.0       15\n",
       "407.0      14\n",
       "403.0       9\n",
       "414.0       6\n",
       "402.0       4\n",
       "410.0       3\n",
       "418.0       2\n",
       "404.0       2\n",
       "419.0       1\n",
       "433.0       1\n",
       "405.0       1\n",
       "Name: se11a, dtype: int64"
      ]
     },
     "execution_count": 858,
     "metadata": {},
     "output_type": "execute_result"
    }
   ],
   "source": [
    "data.se11a.value_counts()"
   ]
  },
  {
   "cell_type": "code",
   "execution_count": 859,
   "metadata": {},
   "outputs": [
    {
     "data": {
      "text/plain": [
       "0    3695\n",
       "1     373\n",
       "Name: eth_minority, dtype: int64"
      ]
     },
     "execution_count": 859,
     "metadata": {},
     "output_type": "execute_result"
    }
   ],
   "source": [
    "data['eth_minority'] = np.where(data.se11a!=401, 1, 0)\n",
    "data['eth_minority'].value_counts()"
   ]
  },
  {
   "cell_type": "code",
   "execution_count": 860,
   "metadata": {},
   "outputs": [],
   "source": [
    "df = data[list(data.loc[:,'q1':'q6']) +    #evaluation of economic conditions of the country and of the family\n",
    "     ['q9', 'q15']+                   #trust of central and local govt\n",
    "     ['q44']+                         #interest in politics \n",
    "     list(data.loc[:,'q49':'q52'])+   #use of internet ans social media\n",
    "     ['q56','q57']+                   #individualism vs collectivism\n",
    "     list(data.loc[:,'q105':'q109'])+ #ethnical treatment, rich/poor treatment by govt, perception of repression and fear\n",
    "     list(data.loc[:,'q134':'q136'])+ # political efficacy\n",
    "     list(data.loc[:,'q155':'q159'])+ # distributive attitudes\n",
    "     list(data.loc[:,'age':'eth_minority'])+  # demographics\n",
    "     list(data.loc[:,'q82':'q87'])+ # evaluation of democratic quality and of governmental system\n",
    "     ['q131']] # one party"
   ]
  },
  {
   "cell_type": "code",
   "execution_count": 861,
   "metadata": {},
   "outputs": [
    {
     "data": {
      "text/html": [
       "<div>\n",
       "<style scoped>\n",
       "    .dataframe tbody tr th:only-of-type {\n",
       "        vertical-align: middle;\n",
       "    }\n",
       "\n",
       "    .dataframe tbody tr th {\n",
       "        vertical-align: top;\n",
       "    }\n",
       "\n",
       "    .dataframe thead th {\n",
       "        text-align: right;\n",
       "    }\n",
       "</style>\n",
       "<table border=\"1\" class=\"dataframe\">\n",
       "  <thead>\n",
       "    <tr style=\"text-align: right;\">\n",
       "      <th></th>\n",
       "      <th>q1</th>\n",
       "      <th>q2</th>\n",
       "      <th>q3</th>\n",
       "      <th>q4</th>\n",
       "      <th>q5</th>\n",
       "      <th>q6</th>\n",
       "      <th>q9</th>\n",
       "      <th>q15</th>\n",
       "      <th>q44</th>\n",
       "      <th>q49</th>\n",
       "      <th>...</th>\n",
       "      <th>rural</th>\n",
       "      <th>eth_minority</th>\n",
       "      <th>q82</th>\n",
       "      <th>q82a</th>\n",
       "      <th>q83</th>\n",
       "      <th>q84</th>\n",
       "      <th>q85</th>\n",
       "      <th>q86</th>\n",
       "      <th>q87</th>\n",
       "      <th>q131</th>\n",
       "    </tr>\n",
       "  </thead>\n",
       "  <tbody>\n",
       "    <tr>\n",
       "      <th>0</th>\n",
       "      <td>2.0</td>\n",
       "      <td>2.0</td>\n",
       "      <td>8.0</td>\n",
       "      <td>5.0</td>\n",
       "      <td>3.0</td>\n",
       "      <td>2.0</td>\n",
       "      <td>2.0</td>\n",
       "      <td>3.0</td>\n",
       "      <td>4.0</td>\n",
       "      <td>8.0</td>\n",
       "      <td>...</td>\n",
       "      <td>1</td>\n",
       "      <td>0</td>\n",
       "      <td>1.0</td>\n",
       "      <td>2.0</td>\n",
       "      <td>2.0</td>\n",
       "      <td>7.0</td>\n",
       "      <td>2.0</td>\n",
       "      <td>2.0</td>\n",
       "      <td>8.0</td>\n",
       "      <td>2.0</td>\n",
       "    </tr>\n",
       "    <tr>\n",
       "      <th>1</th>\n",
       "      <td>4.0</td>\n",
       "      <td>1.0</td>\n",
       "      <td>2.0</td>\n",
       "      <td>3.0</td>\n",
       "      <td>9.0</td>\n",
       "      <td>1.0</td>\n",
       "      <td>2.0</td>\n",
       "      <td>2.0</td>\n",
       "      <td>2.0</td>\n",
       "      <td>1.0</td>\n",
       "      <td>...</td>\n",
       "      <td>0</td>\n",
       "      <td>0</td>\n",
       "      <td>9.0</td>\n",
       "      <td>0.0</td>\n",
       "      <td>9.0</td>\n",
       "      <td>9.0</td>\n",
       "      <td>9.0</td>\n",
       "      <td>9.0</td>\n",
       "      <td>2.0</td>\n",
       "      <td>9.0</td>\n",
       "    </tr>\n",
       "    <tr>\n",
       "      <th>2</th>\n",
       "      <td>1.0</td>\n",
       "      <td>1.0</td>\n",
       "      <td>1.0</td>\n",
       "      <td>1.0</td>\n",
       "      <td>1.0</td>\n",
       "      <td>1.0</td>\n",
       "      <td>1.0</td>\n",
       "      <td>1.0</td>\n",
       "      <td>1.0</td>\n",
       "      <td>7.0</td>\n",
       "      <td>...</td>\n",
       "      <td>0</td>\n",
       "      <td>0</td>\n",
       "      <td>1.0</td>\n",
       "      <td>1.0</td>\n",
       "      <td>2.0</td>\n",
       "      <td>1.0</td>\n",
       "      <td>3.0</td>\n",
       "      <td>1.0</td>\n",
       "      <td>2.0</td>\n",
       "      <td>1.0</td>\n",
       "    </tr>\n",
       "    <tr>\n",
       "      <th>3</th>\n",
       "      <td>2.0</td>\n",
       "      <td>2.0</td>\n",
       "      <td>1.0</td>\n",
       "      <td>3.0</td>\n",
       "      <td>2.0</td>\n",
       "      <td>1.0</td>\n",
       "      <td>2.0</td>\n",
       "      <td>2.0</td>\n",
       "      <td>2.0</td>\n",
       "      <td>1.0</td>\n",
       "      <td>...</td>\n",
       "      <td>0</td>\n",
       "      <td>0</td>\n",
       "      <td>2.0</td>\n",
       "      <td>2.0</td>\n",
       "      <td>3.0</td>\n",
       "      <td>3.0</td>\n",
       "      <td>2.0</td>\n",
       "      <td>2.0</td>\n",
       "      <td>2.0</td>\n",
       "      <td>3.0</td>\n",
       "    </tr>\n",
       "    <tr>\n",
       "      <th>4</th>\n",
       "      <td>2.0</td>\n",
       "      <td>2.0</td>\n",
       "      <td>3.0</td>\n",
       "      <td>3.0</td>\n",
       "      <td>2.0</td>\n",
       "      <td>2.0</td>\n",
       "      <td>2.0</td>\n",
       "      <td>2.0</td>\n",
       "      <td>2.0</td>\n",
       "      <td>2.0</td>\n",
       "      <td>...</td>\n",
       "      <td>0</td>\n",
       "      <td>0</td>\n",
       "      <td>1.0</td>\n",
       "      <td>2.0</td>\n",
       "      <td>2.0</td>\n",
       "      <td>2.0</td>\n",
       "      <td>2.0</td>\n",
       "      <td>1.0</td>\n",
       "      <td>2.0</td>\n",
       "      <td>2.0</td>\n",
       "    </tr>\n",
       "    <tr>\n",
       "      <th>...</th>\n",
       "      <td>...</td>\n",
       "      <td>...</td>\n",
       "      <td>...</td>\n",
       "      <td>...</td>\n",
       "      <td>...</td>\n",
       "      <td>...</td>\n",
       "      <td>...</td>\n",
       "      <td>...</td>\n",
       "      <td>...</td>\n",
       "      <td>...</td>\n",
       "      <td>...</td>\n",
       "      <td>...</td>\n",
       "      <td>...</td>\n",
       "      <td>...</td>\n",
       "      <td>...</td>\n",
       "      <td>...</td>\n",
       "      <td>...</td>\n",
       "      <td>...</td>\n",
       "      <td>...</td>\n",
       "      <td>...</td>\n",
       "      <td>...</td>\n",
       "    </tr>\n",
       "    <tr>\n",
       "      <th>4063</th>\n",
       "      <td>2.0</td>\n",
       "      <td>2.0</td>\n",
       "      <td>2.0</td>\n",
       "      <td>2.0</td>\n",
       "      <td>3.0</td>\n",
       "      <td>1.0</td>\n",
       "      <td>2.0</td>\n",
       "      <td>2.0</td>\n",
       "      <td>2.0</td>\n",
       "      <td>1.0</td>\n",
       "      <td>...</td>\n",
       "      <td>0</td>\n",
       "      <td>0</td>\n",
       "      <td>1.0</td>\n",
       "      <td>2.0</td>\n",
       "      <td>2.0</td>\n",
       "      <td>2.0</td>\n",
       "      <td>3.0</td>\n",
       "      <td>1.0</td>\n",
       "      <td>2.0</td>\n",
       "      <td>2.0</td>\n",
       "    </tr>\n",
       "    <tr>\n",
       "      <th>4064</th>\n",
       "      <td>2.0</td>\n",
       "      <td>1.0</td>\n",
       "      <td>3.0</td>\n",
       "      <td>3.0</td>\n",
       "      <td>2.0</td>\n",
       "      <td>8.0</td>\n",
       "      <td>1.0</td>\n",
       "      <td>2.0</td>\n",
       "      <td>3.0</td>\n",
       "      <td>7.0</td>\n",
       "      <td>...</td>\n",
       "      <td>0</td>\n",
       "      <td>0</td>\n",
       "      <td>1.0</td>\n",
       "      <td>2.0</td>\n",
       "      <td>2.0</td>\n",
       "      <td>2.0</td>\n",
       "      <td>3.0</td>\n",
       "      <td>2.0</td>\n",
       "      <td>2.0</td>\n",
       "      <td>3.0</td>\n",
       "    </tr>\n",
       "    <tr>\n",
       "      <th>4065</th>\n",
       "      <td>2.0</td>\n",
       "      <td>2.0</td>\n",
       "      <td>8.0</td>\n",
       "      <td>3.0</td>\n",
       "      <td>2.0</td>\n",
       "      <td>2.0</td>\n",
       "      <td>2.0</td>\n",
       "      <td>3.0</td>\n",
       "      <td>2.0</td>\n",
       "      <td>1.0</td>\n",
       "      <td>...</td>\n",
       "      <td>0</td>\n",
       "      <td>0</td>\n",
       "      <td>1.0</td>\n",
       "      <td>1.0</td>\n",
       "      <td>8.0</td>\n",
       "      <td>2.0</td>\n",
       "      <td>2.0</td>\n",
       "      <td>2.0</td>\n",
       "      <td>8.0</td>\n",
       "      <td>2.0</td>\n",
       "    </tr>\n",
       "    <tr>\n",
       "      <th>4066</th>\n",
       "      <td>8.0</td>\n",
       "      <td>2.0</td>\n",
       "      <td>1.0</td>\n",
       "      <td>4.0</td>\n",
       "      <td>4.0</td>\n",
       "      <td>3.0</td>\n",
       "      <td>1.0</td>\n",
       "      <td>2.0</td>\n",
       "      <td>4.0</td>\n",
       "      <td>8.0</td>\n",
       "      <td>...</td>\n",
       "      <td>1</td>\n",
       "      <td>0</td>\n",
       "      <td>1.0</td>\n",
       "      <td>1.0</td>\n",
       "      <td>1.0</td>\n",
       "      <td>1.0</td>\n",
       "      <td>1.0</td>\n",
       "      <td>2.0</td>\n",
       "      <td>2.0</td>\n",
       "      <td>1.0</td>\n",
       "    </tr>\n",
       "    <tr>\n",
       "      <th>4067</th>\n",
       "      <td>2.0</td>\n",
       "      <td>2.0</td>\n",
       "      <td>8.0</td>\n",
       "      <td>4.0</td>\n",
       "      <td>2.0</td>\n",
       "      <td>2.0</td>\n",
       "      <td>1.0</td>\n",
       "      <td>3.0</td>\n",
       "      <td>3.0</td>\n",
       "      <td>8.0</td>\n",
       "      <td>...</td>\n",
       "      <td>1</td>\n",
       "      <td>0</td>\n",
       "      <td>8.0</td>\n",
       "      <td>0.0</td>\n",
       "      <td>2.0</td>\n",
       "      <td>2.0</td>\n",
       "      <td>3.0</td>\n",
       "      <td>2.0</td>\n",
       "      <td>2.0</td>\n",
       "      <td>7.0</td>\n",
       "    </tr>\n",
       "  </tbody>\n",
       "</table>\n",
       "<p>4068 rows × 46 columns</p>\n",
       "</div>"
      ],
      "text/plain": [
       "       q1   q2   q3   q4   q5   q6   q9  q15  q44  q49  ...  rural  \\\n",
       "0     2.0  2.0  8.0  5.0  3.0  2.0  2.0  3.0  4.0  8.0  ...      1   \n",
       "1     4.0  1.0  2.0  3.0  9.0  1.0  2.0  2.0  2.0  1.0  ...      0   \n",
       "2     1.0  1.0  1.0  1.0  1.0  1.0  1.0  1.0  1.0  7.0  ...      0   \n",
       "3     2.0  2.0  1.0  3.0  2.0  1.0  2.0  2.0  2.0  1.0  ...      0   \n",
       "4     2.0  2.0  3.0  3.0  2.0  2.0  2.0  2.0  2.0  2.0  ...      0   \n",
       "...   ...  ...  ...  ...  ...  ...  ...  ...  ...  ...  ...    ...   \n",
       "4063  2.0  2.0  2.0  2.0  3.0  1.0  2.0  2.0  2.0  1.0  ...      0   \n",
       "4064  2.0  1.0  3.0  3.0  2.0  8.0  1.0  2.0  3.0  7.0  ...      0   \n",
       "4065  2.0  2.0  8.0  3.0  2.0  2.0  2.0  3.0  2.0  1.0  ...      0   \n",
       "4066  8.0  2.0  1.0  4.0  4.0  3.0  1.0  2.0  4.0  8.0  ...      1   \n",
       "4067  2.0  2.0  8.0  4.0  2.0  2.0  1.0  3.0  3.0  8.0  ...      1   \n",
       "\n",
       "      eth_minority  q82  q82a  q83  q84  q85  q86  q87  q131  \n",
       "0                0  1.0   2.0  2.0  7.0  2.0  2.0  8.0   2.0  \n",
       "1                0  9.0   0.0  9.0  9.0  9.0  9.0  2.0   9.0  \n",
       "2                0  1.0   1.0  2.0  1.0  3.0  1.0  2.0   1.0  \n",
       "3                0  2.0   2.0  3.0  3.0  2.0  2.0  2.0   3.0  \n",
       "4                0  1.0   2.0  2.0  2.0  2.0  1.0  2.0   2.0  \n",
       "...            ...  ...   ...  ...  ...  ...  ...  ...   ...  \n",
       "4063             0  1.0   2.0  2.0  2.0  3.0  1.0  2.0   2.0  \n",
       "4064             0  1.0   2.0  2.0  2.0  3.0  2.0  2.0   3.0  \n",
       "4065             0  1.0   1.0  8.0  2.0  2.0  2.0  8.0   2.0  \n",
       "4066             0  1.0   1.0  1.0  1.0  1.0  2.0  2.0   1.0  \n",
       "4067             0  8.0   0.0  2.0  2.0  3.0  2.0  2.0   7.0  \n",
       "\n",
       "[4068 rows x 46 columns]"
      ]
     },
     "execution_count": 861,
     "metadata": {},
     "output_type": "execute_result"
    }
   ],
   "source": [
    "df"
   ]
  },
  {
   "cell_type": "code",
   "execution_count": 862,
   "metadata": {},
   "outputs": [
    {
     "data": {
      "text/plain": [
       "Index(['q1', 'q2', 'q3', 'q4', 'q5', 'q6', 'q9', 'q15', 'q44', 'q49', 'q50',\n",
       "       'q51', 'q52', 'q56', 'q57', 'q105', 'q106', 'q107', 'q108', 'q109',\n",
       "       'q134', 'q135', 'q136', 'q155', 'q156', 'q157', 'q158', 'q159', 'age',\n",
       "       'gender', 'single', 'education', 'religiosity', 'unemployment',\n",
       "       'income', 'sub_social_status', 'rural', 'eth_minority', 'q82', 'q82a',\n",
       "       'q83', 'q84', 'q85', 'q86', 'q87', 'q131'],\n",
       "      dtype='object')"
      ]
     },
     "execution_count": 862,
     "metadata": {},
     "output_type": "execute_result"
    }
   ],
   "source": [
    "df.columns"
   ]
  },
  {
   "cell_type": "code",
   "execution_count": 863,
   "metadata": {},
   "outputs": [
    {
     "name": "stderr",
     "output_type": "stream",
     "text": [
      "C:\\Users\\zhong\\Anaconda3\\lib\\site-packages\\pandas\\core\\indexing.py:966: SettingWithCopyWarning: \n",
      "A value is trying to be set on a copy of a slice from a DataFrame.\n",
      "Try using .loc[row_indexer,col_indexer] = value instead\n",
      "\n",
      "See the caveats in the documentation: https://pandas.pydata.org/pandas-docs/stable/user_guide/indexing.html#returning-a-view-versus-a-copy\n",
      "  self.obj[item] = s\n"
     ]
    }
   ],
   "source": [
    "df.loc[:,'q1':'q44'] = np.where(df.loc[:,'q1':'q44']>=7,np.nanmedian(df.loc[:,'q1':'q44'][df.loc[:,'q1':'q44']<7],axis=0),\n",
    "                                                               df.loc[:,'q1':'q44'])"
   ]
  },
  {
   "cell_type": "code",
   "execution_count": 864,
   "metadata": {},
   "outputs": [],
   "source": [
    "df.loc[:,'q49'] = np.where(df.loc[:,'q49']>8,np.nanmedian(df.loc[:,'q49'][df.loc[:,'q49']],axis=0),\n",
    "                                                               df.loc[:,'q49'])"
   ]
  },
  {
   "cell_type": "code",
   "execution_count": 865,
   "metadata": {},
   "outputs": [],
   "source": [
    "df.loc[:,'q50':'q57'] = np.where(df.loc[:,'q50':'q57']>=7,\n",
    "                                 np.nanmedian(df.loc[:,'q50':'q57'][df.loc[:,'q50':'q57']<7],axis=0),\n",
    "                                                               df.loc[:,'q50':'q57'])"
   ]
  },
  {
   "cell_type": "code",
   "execution_count": 866,
   "metadata": {},
   "outputs": [],
   "source": [
    "df.loc[:,'q105':'q159'] = np.where(df.loc[:,'q105':'q159']>=5,\n",
    "                                 np.nanmedian(df.loc[:,'q105':'q159'][df.loc[:,'q105':'q159']<5],axis=0),\n",
    "                                                               df.loc[:,'q105':'q159'])"
   ]
  },
  {
   "cell_type": "code",
   "execution_count": 867,
   "metadata": {},
   "outputs": [
    {
     "data": {
      "text/html": [
       "<div>\n",
       "<style scoped>\n",
       "    .dataframe tbody tr th:only-of-type {\n",
       "        vertical-align: middle;\n",
       "    }\n",
       "\n",
       "    .dataframe tbody tr th {\n",
       "        vertical-align: top;\n",
       "    }\n",
       "\n",
       "    .dataframe thead th {\n",
       "        text-align: right;\n",
       "    }\n",
       "</style>\n",
       "<table border=\"1\" class=\"dataframe\">\n",
       "  <thead>\n",
       "    <tr style=\"text-align: right;\">\n",
       "      <th></th>\n",
       "      <th>q1</th>\n",
       "      <th>q2</th>\n",
       "      <th>q3</th>\n",
       "      <th>q4</th>\n",
       "      <th>q5</th>\n",
       "      <th>q6</th>\n",
       "      <th>q9</th>\n",
       "      <th>q15</th>\n",
       "      <th>q44</th>\n",
       "      <th>q49</th>\n",
       "      <th>...</th>\n",
       "      <th>q108</th>\n",
       "      <th>q109</th>\n",
       "      <th>q134</th>\n",
       "      <th>q135</th>\n",
       "      <th>q136</th>\n",
       "      <th>q155</th>\n",
       "      <th>q156</th>\n",
       "      <th>q157</th>\n",
       "      <th>q158</th>\n",
       "      <th>q159</th>\n",
       "    </tr>\n",
       "  </thead>\n",
       "  <tbody>\n",
       "    <tr>\n",
       "      <th>0</th>\n",
       "      <td>2.0</td>\n",
       "      <td>2.0</td>\n",
       "      <td>2.0</td>\n",
       "      <td>5.0</td>\n",
       "      <td>3.0</td>\n",
       "      <td>2.0</td>\n",
       "      <td>2.0</td>\n",
       "      <td>3.0</td>\n",
       "      <td>4.0</td>\n",
       "      <td>8.0</td>\n",
       "      <td>...</td>\n",
       "      <td>2.0</td>\n",
       "      <td>2.0</td>\n",
       "      <td>3.0</td>\n",
       "      <td>2.0</td>\n",
       "      <td>2.0</td>\n",
       "      <td>3.0</td>\n",
       "      <td>2.0</td>\n",
       "      <td>2.0</td>\n",
       "      <td>1.0</td>\n",
       "      <td>2.0</td>\n",
       "    </tr>\n",
       "    <tr>\n",
       "      <th>1</th>\n",
       "      <td>4.0</td>\n",
       "      <td>1.0</td>\n",
       "      <td>2.0</td>\n",
       "      <td>3.0</td>\n",
       "      <td>2.0</td>\n",
       "      <td>1.0</td>\n",
       "      <td>2.0</td>\n",
       "      <td>2.0</td>\n",
       "      <td>2.0</td>\n",
       "      <td>1.0</td>\n",
       "      <td>...</td>\n",
       "      <td>3.0</td>\n",
       "      <td>3.0</td>\n",
       "      <td>2.0</td>\n",
       "      <td>3.0</td>\n",
       "      <td>3.0</td>\n",
       "      <td>3.0</td>\n",
       "      <td>1.0</td>\n",
       "      <td>1.0</td>\n",
       "      <td>2.0</td>\n",
       "      <td>3.0</td>\n",
       "    </tr>\n",
       "    <tr>\n",
       "      <th>2</th>\n",
       "      <td>1.0</td>\n",
       "      <td>1.0</td>\n",
       "      <td>1.0</td>\n",
       "      <td>1.0</td>\n",
       "      <td>1.0</td>\n",
       "      <td>1.0</td>\n",
       "      <td>1.0</td>\n",
       "      <td>1.0</td>\n",
       "      <td>1.0</td>\n",
       "      <td>7.0</td>\n",
       "      <td>...</td>\n",
       "      <td>3.0</td>\n",
       "      <td>2.0</td>\n",
       "      <td>2.0</td>\n",
       "      <td>2.0</td>\n",
       "      <td>4.0</td>\n",
       "      <td>3.0</td>\n",
       "      <td>2.0</td>\n",
       "      <td>1.0</td>\n",
       "      <td>1.0</td>\n",
       "      <td>2.0</td>\n",
       "    </tr>\n",
       "    <tr>\n",
       "      <th>3</th>\n",
       "      <td>2.0</td>\n",
       "      <td>2.0</td>\n",
       "      <td>1.0</td>\n",
       "      <td>3.0</td>\n",
       "      <td>2.0</td>\n",
       "      <td>1.0</td>\n",
       "      <td>2.0</td>\n",
       "      <td>2.0</td>\n",
       "      <td>2.0</td>\n",
       "      <td>1.0</td>\n",
       "      <td>...</td>\n",
       "      <td>3.0</td>\n",
       "      <td>3.0</td>\n",
       "      <td>3.0</td>\n",
       "      <td>2.0</td>\n",
       "      <td>3.0</td>\n",
       "      <td>2.0</td>\n",
       "      <td>3.0</td>\n",
       "      <td>1.0</td>\n",
       "      <td>3.0</td>\n",
       "      <td>1.0</td>\n",
       "    </tr>\n",
       "    <tr>\n",
       "      <th>4</th>\n",
       "      <td>2.0</td>\n",
       "      <td>2.0</td>\n",
       "      <td>3.0</td>\n",
       "      <td>3.0</td>\n",
       "      <td>2.0</td>\n",
       "      <td>2.0</td>\n",
       "      <td>2.0</td>\n",
       "      <td>2.0</td>\n",
       "      <td>2.0</td>\n",
       "      <td>2.0</td>\n",
       "      <td>...</td>\n",
       "      <td>2.0</td>\n",
       "      <td>3.0</td>\n",
       "      <td>4.0</td>\n",
       "      <td>2.0</td>\n",
       "      <td>2.0</td>\n",
       "      <td>3.0</td>\n",
       "      <td>3.0</td>\n",
       "      <td>3.0</td>\n",
       "      <td>2.0</td>\n",
       "      <td>2.0</td>\n",
       "    </tr>\n",
       "    <tr>\n",
       "      <th>...</th>\n",
       "      <td>...</td>\n",
       "      <td>...</td>\n",
       "      <td>...</td>\n",
       "      <td>...</td>\n",
       "      <td>...</td>\n",
       "      <td>...</td>\n",
       "      <td>...</td>\n",
       "      <td>...</td>\n",
       "      <td>...</td>\n",
       "      <td>...</td>\n",
       "      <td>...</td>\n",
       "      <td>...</td>\n",
       "      <td>...</td>\n",
       "      <td>...</td>\n",
       "      <td>...</td>\n",
       "      <td>...</td>\n",
       "      <td>...</td>\n",
       "      <td>...</td>\n",
       "      <td>...</td>\n",
       "      <td>...</td>\n",
       "      <td>...</td>\n",
       "    </tr>\n",
       "    <tr>\n",
       "      <th>4063</th>\n",
       "      <td>2.0</td>\n",
       "      <td>2.0</td>\n",
       "      <td>2.0</td>\n",
       "      <td>2.0</td>\n",
       "      <td>3.0</td>\n",
       "      <td>1.0</td>\n",
       "      <td>2.0</td>\n",
       "      <td>2.0</td>\n",
       "      <td>2.0</td>\n",
       "      <td>1.0</td>\n",
       "      <td>...</td>\n",
       "      <td>2.0</td>\n",
       "      <td>1.0</td>\n",
       "      <td>2.0</td>\n",
       "      <td>2.0</td>\n",
       "      <td>2.0</td>\n",
       "      <td>3.0</td>\n",
       "      <td>2.0</td>\n",
       "      <td>2.0</td>\n",
       "      <td>2.0</td>\n",
       "      <td>2.0</td>\n",
       "    </tr>\n",
       "    <tr>\n",
       "      <th>4064</th>\n",
       "      <td>2.0</td>\n",
       "      <td>1.0</td>\n",
       "      <td>3.0</td>\n",
       "      <td>3.0</td>\n",
       "      <td>2.0</td>\n",
       "      <td>2.0</td>\n",
       "      <td>1.0</td>\n",
       "      <td>2.0</td>\n",
       "      <td>3.0</td>\n",
       "      <td>7.0</td>\n",
       "      <td>...</td>\n",
       "      <td>3.0</td>\n",
       "      <td>3.0</td>\n",
       "      <td>3.0</td>\n",
       "      <td>2.0</td>\n",
       "      <td>2.0</td>\n",
       "      <td>2.0</td>\n",
       "      <td>3.0</td>\n",
       "      <td>1.0</td>\n",
       "      <td>2.0</td>\n",
       "      <td>2.0</td>\n",
       "    </tr>\n",
       "    <tr>\n",
       "      <th>4065</th>\n",
       "      <td>2.0</td>\n",
       "      <td>2.0</td>\n",
       "      <td>2.0</td>\n",
       "      <td>3.0</td>\n",
       "      <td>2.0</td>\n",
       "      <td>2.0</td>\n",
       "      <td>2.0</td>\n",
       "      <td>3.0</td>\n",
       "      <td>2.0</td>\n",
       "      <td>1.0</td>\n",
       "      <td>...</td>\n",
       "      <td>2.0</td>\n",
       "      <td>3.0</td>\n",
       "      <td>3.0</td>\n",
       "      <td>3.0</td>\n",
       "      <td>2.0</td>\n",
       "      <td>4.0</td>\n",
       "      <td>1.0</td>\n",
       "      <td>1.0</td>\n",
       "      <td>2.0</td>\n",
       "      <td>4.0</td>\n",
       "    </tr>\n",
       "    <tr>\n",
       "      <th>4066</th>\n",
       "      <td>2.0</td>\n",
       "      <td>2.0</td>\n",
       "      <td>1.0</td>\n",
       "      <td>4.0</td>\n",
       "      <td>4.0</td>\n",
       "      <td>3.0</td>\n",
       "      <td>1.0</td>\n",
       "      <td>2.0</td>\n",
       "      <td>4.0</td>\n",
       "      <td>8.0</td>\n",
       "      <td>...</td>\n",
       "      <td>2.0</td>\n",
       "      <td>2.0</td>\n",
       "      <td>4.0</td>\n",
       "      <td>2.0</td>\n",
       "      <td>2.0</td>\n",
       "      <td>3.0</td>\n",
       "      <td>2.0</td>\n",
       "      <td>4.0</td>\n",
       "      <td>1.0</td>\n",
       "      <td>4.0</td>\n",
       "    </tr>\n",
       "    <tr>\n",
       "      <th>4067</th>\n",
       "      <td>2.0</td>\n",
       "      <td>2.0</td>\n",
       "      <td>2.0</td>\n",
       "      <td>4.0</td>\n",
       "      <td>2.0</td>\n",
       "      <td>2.0</td>\n",
       "      <td>1.0</td>\n",
       "      <td>3.0</td>\n",
       "      <td>3.0</td>\n",
       "      <td>8.0</td>\n",
       "      <td>...</td>\n",
       "      <td>3.0</td>\n",
       "      <td>3.0</td>\n",
       "      <td>3.0</td>\n",
       "      <td>2.0</td>\n",
       "      <td>3.0</td>\n",
       "      <td>3.0</td>\n",
       "      <td>1.0</td>\n",
       "      <td>2.0</td>\n",
       "      <td>1.0</td>\n",
       "      <td>3.0</td>\n",
       "    </tr>\n",
       "  </tbody>\n",
       "</table>\n",
       "<p>4068 rows × 28 columns</p>\n",
       "</div>"
      ],
      "text/plain": [
       "       q1   q2   q3   q4   q5   q6   q9  q15  q44  q49  ...  q108  q109  q134  \\\n",
       "0     2.0  2.0  2.0  5.0  3.0  2.0  2.0  3.0  4.0  8.0  ...   2.0   2.0   3.0   \n",
       "1     4.0  1.0  2.0  3.0  2.0  1.0  2.0  2.0  2.0  1.0  ...   3.0   3.0   2.0   \n",
       "2     1.0  1.0  1.0  1.0  1.0  1.0  1.0  1.0  1.0  7.0  ...   3.0   2.0   2.0   \n",
       "3     2.0  2.0  1.0  3.0  2.0  1.0  2.0  2.0  2.0  1.0  ...   3.0   3.0   3.0   \n",
       "4     2.0  2.0  3.0  3.0  2.0  2.0  2.0  2.0  2.0  2.0  ...   2.0   3.0   4.0   \n",
       "...   ...  ...  ...  ...  ...  ...  ...  ...  ...  ...  ...   ...   ...   ...   \n",
       "4063  2.0  2.0  2.0  2.0  3.0  1.0  2.0  2.0  2.0  1.0  ...   2.0   1.0   2.0   \n",
       "4064  2.0  1.0  3.0  3.0  2.0  2.0  1.0  2.0  3.0  7.0  ...   3.0   3.0   3.0   \n",
       "4065  2.0  2.0  2.0  3.0  2.0  2.0  2.0  3.0  2.0  1.0  ...   2.0   3.0   3.0   \n",
       "4066  2.0  2.0  1.0  4.0  4.0  3.0  1.0  2.0  4.0  8.0  ...   2.0   2.0   4.0   \n",
       "4067  2.0  2.0  2.0  4.0  2.0  2.0  1.0  3.0  3.0  8.0  ...   3.0   3.0   3.0   \n",
       "\n",
       "      q135  q136  q155  q156  q157  q158  q159  \n",
       "0      2.0   2.0   3.0   2.0   2.0   1.0   2.0  \n",
       "1      3.0   3.0   3.0   1.0   1.0   2.0   3.0  \n",
       "2      2.0   4.0   3.0   2.0   1.0   1.0   2.0  \n",
       "3      2.0   3.0   2.0   3.0   1.0   3.0   1.0  \n",
       "4      2.0   2.0   3.0   3.0   3.0   2.0   2.0  \n",
       "...    ...   ...   ...   ...   ...   ...   ...  \n",
       "4063   2.0   2.0   3.0   2.0   2.0   2.0   2.0  \n",
       "4064   2.0   2.0   2.0   3.0   1.0   2.0   2.0  \n",
       "4065   3.0   2.0   4.0   1.0   1.0   2.0   4.0  \n",
       "4066   2.0   2.0   3.0   2.0   4.0   1.0   4.0  \n",
       "4067   2.0   3.0   3.0   1.0   2.0   1.0   3.0  \n",
       "\n",
       "[4068 rows x 28 columns]"
      ]
     },
     "execution_count": 867,
     "metadata": {},
     "output_type": "execute_result"
    }
   ],
   "source": [
    "df.loc[:,'q1':'q159']"
   ]
  },
  {
   "cell_type": "code",
   "execution_count": 868,
   "metadata": {},
   "outputs": [
    {
     "name": "stderr",
     "output_type": "stream",
     "text": [
      "C:\\Users\\zhong\\Anaconda3\\lib\\site-packages\\pandas\\core\\indexing.py:966: SettingWithCopyWarning: \n",
      "A value is trying to be set on a copy of a slice from a DataFrame.\n",
      "Try using .loc[row_indexer,col_indexer] = value instead\n",
      "\n",
      "See the caveats in the documentation: https://pandas.pydata.org/pandas-docs/stable/user_guide/indexing.html#returning-a-view-versus-a-copy\n",
      "  self.obj[item] = s\n"
     ]
    }
   ],
   "source": [
    "#to inverse the order of the answers\n",
    "df.loc[:,'q1':'q57'] = -df.loc[:,'q1':'q57'] "
   ]
  },
  {
   "cell_type": "code",
   "execution_count": 869,
   "metadata": {},
   "outputs": [],
   "source": [
    "df.loc[:,'q105':'q109'] = 5-df.loc[:,'q105':'q109']"
   ]
  },
  {
   "cell_type": "code",
   "execution_count": 870,
   "metadata": {},
   "outputs": [],
   "source": [
    "df.loc[:,'q134':'q136'] = 5-df.loc[:,'q134':'q136']"
   ]
  },
  {
   "cell_type": "code",
   "execution_count": 871,
   "metadata": {},
   "outputs": [],
   "source": [
    "df.loc[:,'q155':'q159'] = 5-df.loc[:,'q155':'q159']"
   ]
  },
  {
   "cell_type": "code",
   "execution_count": 872,
   "metadata": {},
   "outputs": [
    {
     "data": {
      "text/plain": [
       "Index(['q1', 'q2', 'q3', 'q4', 'q5', 'q6', 'q9', 'q15', 'q44', 'q49', 'q50',\n",
       "       'q51', 'q52', 'q56', 'q57', 'q105', 'q106', 'q107', 'q108', 'q109',\n",
       "       'q134', 'q135', 'q136', 'q155', 'q156', 'q157', 'q158', 'q159', 'age',\n",
       "       'gender', 'single', 'education', 'religiosity', 'unemployment',\n",
       "       'income', 'sub_social_status', 'rural', 'eth_minority', 'q82', 'q82a',\n",
       "       'q83', 'q84', 'q85', 'q86', 'q87', 'q131'],\n",
       "      dtype='object')"
      ]
     },
     "execution_count": 872,
     "metadata": {},
     "output_type": "execute_result"
    }
   ],
   "source": [
    "df.columns"
   ]
  },
  {
   "cell_type": "code",
   "execution_count": 873,
   "metadata": {},
   "outputs": [
    {
     "name": "stderr",
     "output_type": "stream",
     "text": [
      "C:\\Users\\zhong\\Anaconda3\\lib\\site-packages\\pandas\\core\\indexing.py:845: SettingWithCopyWarning: \n",
      "A value is trying to be set on a copy of a slice from a DataFrame.\n",
      "Try using .loc[row_indexer,col_indexer] = value instead\n",
      "\n",
      "See the caveats in the documentation: https://pandas.pydata.org/pandas-docs/stable/user_guide/indexing.html#returning-a-view-versus-a-copy\n",
      "  self.obj[key] = _infer_fill_value(value)\n"
     ]
    },
    {
     "data": {
      "text/plain": [
       "3.0    2488\n",
       "4.0     953\n",
       "2.0     489\n",
       "1.0     138\n",
       "Name: election_imputed_median, dtype: int64"
      ]
     },
     "execution_count": 873,
     "metadata": {},
     "output_type": "execute_result"
    }
   ],
   "source": [
    "df.loc[:,'election'] = np.where((df.q82==1)&(df.q82a==1), 4, \n",
    "                         np.where((df.q82==1)&(df.q82a==2), 3,\n",
    "                                 np.where((df.q82==2)&(df.q82a==2), 2,\n",
    "                                         np.where((df.q82==2)&(df.q82a==1), 1, np.nan))))\n",
    "df.loc[:,'election_imputed_median'] = np.where(np.isnan(df['election']), np.nanmedian(df['election']), df['election']) \n",
    "df.election_imputed_median.value_counts()"
   ]
  },
  {
   "cell_type": "code",
   "execution_count": 874,
   "metadata": {},
   "outputs": [],
   "source": [
    "#'q83', 'q84', 'q85', 'q86', 'q87', 'q131'"
   ]
  },
  {
   "cell_type": "code",
   "execution_count": 875,
   "metadata": {},
   "outputs": [],
   "source": [
    "df.loc[:,'q83':'q131'] = np.where(df.loc[:,'q83':'q131']>=5, np.nan,\n",
    "                                  df.loc[:,'q83':'q131'])"
   ]
  },
  {
   "cell_type": "code",
   "execution_count": 876,
   "metadata": {},
   "outputs": [],
   "source": [
    "# make invalid answers as NAs while adding more columns with the NAs replaced by the medians\n",
    "columns = ['sys_capable_solving_probs',\n",
    "  'proud_of_sys',\n",
    "   'sys_deserves_support',\n",
    "   'rather_live_this_than_other',\n",
    "   'sys_changes_needed',\n",
    "   'multi-party']\n",
    "\n",
    "df_add = pd.DataFrame(data=np.where(np.isnan(df.loc[:,'q83':'q131']), \n",
    "                                         np.nanmedian(df.loc[:,'q83':'q131'][df.loc[:,'q83':'q131']<5]),\n",
    "                                         df.loc[:,'q83':'q131']),columns=columns)"
   ]
  },
  {
   "cell_type": "code",
   "execution_count": 877,
   "metadata": {},
   "outputs": [],
   "source": [
    "df = pd.concat([df,df_add], axis=1)"
   ]
  },
  {
   "cell_type": "code",
   "execution_count": 878,
   "metadata": {},
   "outputs": [],
   "source": [
    "df.loc[:,'q83':'q86'] = 5-df.loc[:,'q83':'q86']\n",
    "df.loc[:,'sys_capable_solving_probs':'rather_live_this_than_other'] = 5-df.loc[:,'sys_capable_solving_probs':'rather_live_this_than_other']"
   ]
  },
  {
   "cell_type": "code",
   "execution_count": 879,
   "metadata": {},
   "outputs": [
    {
     "data": {
      "text/html": [
       "<div>\n",
       "<style scoped>\n",
       "    .dataframe tbody tr th:only-of-type {\n",
       "        vertical-align: middle;\n",
       "    }\n",
       "\n",
       "    .dataframe tbody tr th {\n",
       "        vertical-align: top;\n",
       "    }\n",
       "\n",
       "    .dataframe thead th {\n",
       "        text-align: right;\n",
       "    }\n",
       "</style>\n",
       "<table border=\"1\" class=\"dataframe\">\n",
       "  <thead>\n",
       "    <tr style=\"text-align: right;\">\n",
       "      <th></th>\n",
       "      <th>q1</th>\n",
       "      <th>q2</th>\n",
       "      <th>q3</th>\n",
       "      <th>q4</th>\n",
       "      <th>q5</th>\n",
       "      <th>q6</th>\n",
       "      <th>q9</th>\n",
       "      <th>q15</th>\n",
       "      <th>q44</th>\n",
       "      <th>q49</th>\n",
       "      <th>...</th>\n",
       "      <th>q87</th>\n",
       "      <th>q131</th>\n",
       "      <th>election</th>\n",
       "      <th>election_imputed_median</th>\n",
       "      <th>sys_capable_solving_probs</th>\n",
       "      <th>proud_of_sys</th>\n",
       "      <th>sys_deserves_support</th>\n",
       "      <th>rather_live_this_than_other</th>\n",
       "      <th>sys_changes_needed</th>\n",
       "      <th>multi-party</th>\n",
       "    </tr>\n",
       "  </thead>\n",
       "  <tbody>\n",
       "    <tr>\n",
       "      <th>0</th>\n",
       "      <td>-2.0</td>\n",
       "      <td>-2.0</td>\n",
       "      <td>-2.0</td>\n",
       "      <td>-5.0</td>\n",
       "      <td>-3.0</td>\n",
       "      <td>-2.0</td>\n",
       "      <td>-2.0</td>\n",
       "      <td>-3.0</td>\n",
       "      <td>-4.0</td>\n",
       "      <td>-8.0</td>\n",
       "      <td>...</td>\n",
       "      <td>NaN</td>\n",
       "      <td>2.0</td>\n",
       "      <td>3.0</td>\n",
       "      <td>3.0</td>\n",
       "      <td>3.0</td>\n",
       "      <td>3.0</td>\n",
       "      <td>3.0</td>\n",
       "      <td>3.0</td>\n",
       "      <td>2.0</td>\n",
       "      <td>2.0</td>\n",
       "    </tr>\n",
       "    <tr>\n",
       "      <th>1</th>\n",
       "      <td>-4.0</td>\n",
       "      <td>-1.0</td>\n",
       "      <td>-2.0</td>\n",
       "      <td>-3.0</td>\n",
       "      <td>-2.0</td>\n",
       "      <td>-1.0</td>\n",
       "      <td>-2.0</td>\n",
       "      <td>-2.0</td>\n",
       "      <td>-2.0</td>\n",
       "      <td>-1.0</td>\n",
       "      <td>...</td>\n",
       "      <td>2.0</td>\n",
       "      <td>NaN</td>\n",
       "      <td>NaN</td>\n",
       "      <td>3.0</td>\n",
       "      <td>3.0</td>\n",
       "      <td>3.0</td>\n",
       "      <td>3.0</td>\n",
       "      <td>3.0</td>\n",
       "      <td>2.0</td>\n",
       "      <td>2.0</td>\n",
       "    </tr>\n",
       "    <tr>\n",
       "      <th>2</th>\n",
       "      <td>-1.0</td>\n",
       "      <td>-1.0</td>\n",
       "      <td>-1.0</td>\n",
       "      <td>-1.0</td>\n",
       "      <td>-1.0</td>\n",
       "      <td>-1.0</td>\n",
       "      <td>-1.0</td>\n",
       "      <td>-1.0</td>\n",
       "      <td>-1.0</td>\n",
       "      <td>-7.0</td>\n",
       "      <td>...</td>\n",
       "      <td>2.0</td>\n",
       "      <td>1.0</td>\n",
       "      <td>4.0</td>\n",
       "      <td>4.0</td>\n",
       "      <td>3.0</td>\n",
       "      <td>4.0</td>\n",
       "      <td>2.0</td>\n",
       "      <td>4.0</td>\n",
       "      <td>2.0</td>\n",
       "      <td>1.0</td>\n",
       "    </tr>\n",
       "    <tr>\n",
       "      <th>3</th>\n",
       "      <td>-2.0</td>\n",
       "      <td>-2.0</td>\n",
       "      <td>-1.0</td>\n",
       "      <td>-3.0</td>\n",
       "      <td>-2.0</td>\n",
       "      <td>-1.0</td>\n",
       "      <td>-2.0</td>\n",
       "      <td>-2.0</td>\n",
       "      <td>-2.0</td>\n",
       "      <td>-1.0</td>\n",
       "      <td>...</td>\n",
       "      <td>2.0</td>\n",
       "      <td>3.0</td>\n",
       "      <td>2.0</td>\n",
       "      <td>2.0</td>\n",
       "      <td>2.0</td>\n",
       "      <td>2.0</td>\n",
       "      <td>3.0</td>\n",
       "      <td>3.0</td>\n",
       "      <td>2.0</td>\n",
       "      <td>3.0</td>\n",
       "    </tr>\n",
       "    <tr>\n",
       "      <th>4</th>\n",
       "      <td>-2.0</td>\n",
       "      <td>-2.0</td>\n",
       "      <td>-3.0</td>\n",
       "      <td>-3.0</td>\n",
       "      <td>-2.0</td>\n",
       "      <td>-2.0</td>\n",
       "      <td>-2.0</td>\n",
       "      <td>-2.0</td>\n",
       "      <td>-2.0</td>\n",
       "      <td>-2.0</td>\n",
       "      <td>...</td>\n",
       "      <td>2.0</td>\n",
       "      <td>2.0</td>\n",
       "      <td>3.0</td>\n",
       "      <td>3.0</td>\n",
       "      <td>3.0</td>\n",
       "      <td>3.0</td>\n",
       "      <td>3.0</td>\n",
       "      <td>4.0</td>\n",
       "      <td>2.0</td>\n",
       "      <td>2.0</td>\n",
       "    </tr>\n",
       "    <tr>\n",
       "      <th>...</th>\n",
       "      <td>...</td>\n",
       "      <td>...</td>\n",
       "      <td>...</td>\n",
       "      <td>...</td>\n",
       "      <td>...</td>\n",
       "      <td>...</td>\n",
       "      <td>...</td>\n",
       "      <td>...</td>\n",
       "      <td>...</td>\n",
       "      <td>...</td>\n",
       "      <td>...</td>\n",
       "      <td>...</td>\n",
       "      <td>...</td>\n",
       "      <td>...</td>\n",
       "      <td>...</td>\n",
       "      <td>...</td>\n",
       "      <td>...</td>\n",
       "      <td>...</td>\n",
       "      <td>...</td>\n",
       "      <td>...</td>\n",
       "      <td>...</td>\n",
       "    </tr>\n",
       "    <tr>\n",
       "      <th>4063</th>\n",
       "      <td>-2.0</td>\n",
       "      <td>-2.0</td>\n",
       "      <td>-2.0</td>\n",
       "      <td>-2.0</td>\n",
       "      <td>-3.0</td>\n",
       "      <td>-1.0</td>\n",
       "      <td>-2.0</td>\n",
       "      <td>-2.0</td>\n",
       "      <td>-2.0</td>\n",
       "      <td>-1.0</td>\n",
       "      <td>...</td>\n",
       "      <td>2.0</td>\n",
       "      <td>2.0</td>\n",
       "      <td>3.0</td>\n",
       "      <td>3.0</td>\n",
       "      <td>3.0</td>\n",
       "      <td>3.0</td>\n",
       "      <td>2.0</td>\n",
       "      <td>4.0</td>\n",
       "      <td>2.0</td>\n",
       "      <td>2.0</td>\n",
       "    </tr>\n",
       "    <tr>\n",
       "      <th>4064</th>\n",
       "      <td>-2.0</td>\n",
       "      <td>-1.0</td>\n",
       "      <td>-3.0</td>\n",
       "      <td>-3.0</td>\n",
       "      <td>-2.0</td>\n",
       "      <td>-2.0</td>\n",
       "      <td>-1.0</td>\n",
       "      <td>-2.0</td>\n",
       "      <td>-3.0</td>\n",
       "      <td>-7.0</td>\n",
       "      <td>...</td>\n",
       "      <td>2.0</td>\n",
       "      <td>3.0</td>\n",
       "      <td>3.0</td>\n",
       "      <td>3.0</td>\n",
       "      <td>3.0</td>\n",
       "      <td>3.0</td>\n",
       "      <td>2.0</td>\n",
       "      <td>3.0</td>\n",
       "      <td>2.0</td>\n",
       "      <td>3.0</td>\n",
       "    </tr>\n",
       "    <tr>\n",
       "      <th>4065</th>\n",
       "      <td>-2.0</td>\n",
       "      <td>-2.0</td>\n",
       "      <td>-2.0</td>\n",
       "      <td>-3.0</td>\n",
       "      <td>-2.0</td>\n",
       "      <td>-2.0</td>\n",
       "      <td>-2.0</td>\n",
       "      <td>-3.0</td>\n",
       "      <td>-2.0</td>\n",
       "      <td>-1.0</td>\n",
       "      <td>...</td>\n",
       "      <td>NaN</td>\n",
       "      <td>2.0</td>\n",
       "      <td>4.0</td>\n",
       "      <td>4.0</td>\n",
       "      <td>3.0</td>\n",
       "      <td>3.0</td>\n",
       "      <td>3.0</td>\n",
       "      <td>3.0</td>\n",
       "      <td>2.0</td>\n",
       "      <td>2.0</td>\n",
       "    </tr>\n",
       "    <tr>\n",
       "      <th>4066</th>\n",
       "      <td>-2.0</td>\n",
       "      <td>-2.0</td>\n",
       "      <td>-1.0</td>\n",
       "      <td>-4.0</td>\n",
       "      <td>-4.0</td>\n",
       "      <td>-3.0</td>\n",
       "      <td>-1.0</td>\n",
       "      <td>-2.0</td>\n",
       "      <td>-4.0</td>\n",
       "      <td>-8.0</td>\n",
       "      <td>...</td>\n",
       "      <td>2.0</td>\n",
       "      <td>1.0</td>\n",
       "      <td>4.0</td>\n",
       "      <td>4.0</td>\n",
       "      <td>4.0</td>\n",
       "      <td>4.0</td>\n",
       "      <td>4.0</td>\n",
       "      <td>3.0</td>\n",
       "      <td>2.0</td>\n",
       "      <td>1.0</td>\n",
       "    </tr>\n",
       "    <tr>\n",
       "      <th>4067</th>\n",
       "      <td>-2.0</td>\n",
       "      <td>-2.0</td>\n",
       "      <td>-2.0</td>\n",
       "      <td>-4.0</td>\n",
       "      <td>-2.0</td>\n",
       "      <td>-2.0</td>\n",
       "      <td>-1.0</td>\n",
       "      <td>-3.0</td>\n",
       "      <td>-3.0</td>\n",
       "      <td>-8.0</td>\n",
       "      <td>...</td>\n",
       "      <td>2.0</td>\n",
       "      <td>NaN</td>\n",
       "      <td>NaN</td>\n",
       "      <td>3.0</td>\n",
       "      <td>3.0</td>\n",
       "      <td>3.0</td>\n",
       "      <td>2.0</td>\n",
       "      <td>3.0</td>\n",
       "      <td>2.0</td>\n",
       "      <td>2.0</td>\n",
       "    </tr>\n",
       "  </tbody>\n",
       "</table>\n",
       "<p>4068 rows × 54 columns</p>\n",
       "</div>"
      ],
      "text/plain": [
       "       q1   q2   q3   q4   q5   q6   q9  q15  q44  q49  ...  q87  q131  \\\n",
       "0    -2.0 -2.0 -2.0 -5.0 -3.0 -2.0 -2.0 -3.0 -4.0 -8.0  ...  NaN   2.0   \n",
       "1    -4.0 -1.0 -2.0 -3.0 -2.0 -1.0 -2.0 -2.0 -2.0 -1.0  ...  2.0   NaN   \n",
       "2    -1.0 -1.0 -1.0 -1.0 -1.0 -1.0 -1.0 -1.0 -1.0 -7.0  ...  2.0   1.0   \n",
       "3    -2.0 -2.0 -1.0 -3.0 -2.0 -1.0 -2.0 -2.0 -2.0 -1.0  ...  2.0   3.0   \n",
       "4    -2.0 -2.0 -3.0 -3.0 -2.0 -2.0 -2.0 -2.0 -2.0 -2.0  ...  2.0   2.0   \n",
       "...   ...  ...  ...  ...  ...  ...  ...  ...  ...  ...  ...  ...   ...   \n",
       "4063 -2.0 -2.0 -2.0 -2.0 -3.0 -1.0 -2.0 -2.0 -2.0 -1.0  ...  2.0   2.0   \n",
       "4064 -2.0 -1.0 -3.0 -3.0 -2.0 -2.0 -1.0 -2.0 -3.0 -7.0  ...  2.0   3.0   \n",
       "4065 -2.0 -2.0 -2.0 -3.0 -2.0 -2.0 -2.0 -3.0 -2.0 -1.0  ...  NaN   2.0   \n",
       "4066 -2.0 -2.0 -1.0 -4.0 -4.0 -3.0 -1.0 -2.0 -4.0 -8.0  ...  2.0   1.0   \n",
       "4067 -2.0 -2.0 -2.0 -4.0 -2.0 -2.0 -1.0 -3.0 -3.0 -8.0  ...  2.0   NaN   \n",
       "\n",
       "      election  election_imputed_median  sys_capable_solving_probs  \\\n",
       "0          3.0                      3.0                        3.0   \n",
       "1          NaN                      3.0                        3.0   \n",
       "2          4.0                      4.0                        3.0   \n",
       "3          2.0                      2.0                        2.0   \n",
       "4          3.0                      3.0                        3.0   \n",
       "...        ...                      ...                        ...   \n",
       "4063       3.0                      3.0                        3.0   \n",
       "4064       3.0                      3.0                        3.0   \n",
       "4065       4.0                      4.0                        3.0   \n",
       "4066       4.0                      4.0                        4.0   \n",
       "4067       NaN                      3.0                        3.0   \n",
       "\n",
       "      proud_of_sys  sys_deserves_support  rather_live_this_than_other  \\\n",
       "0              3.0                   3.0                          3.0   \n",
       "1              3.0                   3.0                          3.0   \n",
       "2              4.0                   2.0                          4.0   \n",
       "3              2.0                   3.0                          3.0   \n",
       "4              3.0                   3.0                          4.0   \n",
       "...            ...                   ...                          ...   \n",
       "4063           3.0                   2.0                          4.0   \n",
       "4064           3.0                   2.0                          3.0   \n",
       "4065           3.0                   3.0                          3.0   \n",
       "4066           4.0                   4.0                          3.0   \n",
       "4067           3.0                   2.0                          3.0   \n",
       "\n",
       "      sys_changes_needed  multi-party  \n",
       "0                    2.0          2.0  \n",
       "1                    2.0          2.0  \n",
       "2                    2.0          1.0  \n",
       "3                    2.0          3.0  \n",
       "4                    2.0          2.0  \n",
       "...                  ...          ...  \n",
       "4063                 2.0          2.0  \n",
       "4064                 2.0          3.0  \n",
       "4065                 2.0          2.0  \n",
       "4066                 2.0          1.0  \n",
       "4067                 2.0          2.0  \n",
       "\n",
       "[4068 rows x 54 columns]"
      ]
     },
     "execution_count": 879,
     "metadata": {},
     "output_type": "execute_result"
    }
   ],
   "source": [
    "df"
   ]
  },
  {
   "cell_type": "markdown",
   "metadata": {},
   "source": [
    "# PART II . Use Lasso to Explore the Possible Effects of Predictors"
   ]
  },
  {
   "cell_type": "code",
   "execution_count": 880,
   "metadata": {},
   "outputs": [],
   "source": [
    "# standardize the predictors\n",
    "from sklearn.preprocessing import StandardScaler\n",
    "from sklearn.model_selection import train_test_split\n",
    "from sklearn.linear_model import Lasso, LassoCV\n",
    "from sklearn.model_selection import validation_curve"
   ]
  },
  {
   "cell_type": "code",
   "execution_count": 882,
   "metadata": {},
   "outputs": [],
   "source": [
    "df.loc[:,'q1':'q159'] = StandardScaler().fit_transform(df.loc[:,'q1':'q159'])"
   ]
  },
  {
   "cell_type": "code",
   "execution_count": 883,
   "metadata": {},
   "outputs": [],
   "source": [
    "def plot_cross_validation_curve(param_range, train_scores, test_scores):\n",
    "    train_scores_mean = np.mean(train_scores, axis=1)\n",
    "    train_scores_std = np.std(train_scores, axis=1)\n",
    "    test_scores_mean = np.mean(test_scores, axis=1)\n",
    "    test_scores_std = np.std(test_scores, axis=1)\n",
    "\n",
    "    #Plot CV error as a function of alpha\n",
    "    plt.title(\"Validation Curve\")\n",
    "    plt.xlabel(\"Parameter\")\n",
    "    plt.ylabel(\"Score\")\n",
    "    lw = 2\n",
    "    plt.plot(param_range, train_scores_mean, label=\"Training score\",\n",
    "                 color=\"darkorange\", lw=lw)\n",
    "    plt.fill_between(param_range, train_scores_mean - train_scores_std,\n",
    "                     train_scores_mean + train_scores_std, alpha=0.2,\n",
    "                     color=\"darkorange\", lw=lw)\n",
    "    plt.plot(param_range, test_scores_mean, label=\"Cross-validation score\",\n",
    "                 color=\"navy\", lw=lw)\n",
    "    plt.fill_between(param_range, test_scores_mean - test_scores_std,\n",
    "                     test_scores_mean + test_scores_std, alpha=0.2,\n",
    "                     color=\"navy\", lw=lw)\n",
    "    plt.legend(loc=\"best\")\n",
    "    plt.show()\n",
    "    parameter_best = param_range[np.argmax(test_scores_mean)]\n",
    "    print('The best parameter is:', \n",
    "          parameter_best)\n",
    "    return parameter_best"
   ]
  },
  {
   "cell_type": "code",
   "execution_count": 884,
   "metadata": {},
   "outputs": [],
   "source": [
    "def parameter_cross_validation(param_range, train_scores, test_scores):\n",
    "    train_scores_mean = np.mean(train_scores, axis=1)\n",
    "    train_scores_std = np.std(train_scores, axis=1)\n",
    "    test_scores_mean = np.mean(test_scores, axis=1)\n",
    "    test_scores_std = np.std(test_scores, axis=1)\n",
    "    \n",
    "    parameter_best = param_range[np.argmax(test_scores_mean)]\n",
    "    \n",
    "    return parameter_best"
   ]
  },
  {
   "cell_type": "code",
   "execution_count": 885,
   "metadata": {},
   "outputs": [],
   "source": [
    "lassoRegr = Lasso(max_iter = 10000)\n",
    "alphas = np.logspace(-15, -1, 100)\n",
    "train_scores, test_scores = validation_curve(\n",
    "    lassoRegr, X_train, y_train, cv=5, param_name=\"alpha\", param_range=alphas,\n",
    "    scoring=\"neg_root_mean_squared_error\")\n",
    "\n",
    "best_para = parameter_cross_validation(alphas, train_scores, test_scores)"
   ]
  },
  {
   "cell_type": "code",
   "execution_count": 886,
   "metadata": {},
   "outputs": [
    {
     "data": {
      "text/html": [
       "<div>\n",
       "<style scoped>\n",
       "    .dataframe tbody tr th:only-of-type {\n",
       "        vertical-align: middle;\n",
       "    }\n",
       "\n",
       "    .dataframe tbody tr th {\n",
       "        vertical-align: top;\n",
       "    }\n",
       "\n",
       "    .dataframe thead th {\n",
       "        text-align: right;\n",
       "    }\n",
       "</style>\n",
       "<table border=\"1\" class=\"dataframe\">\n",
       "  <thead>\n",
       "    <tr style=\"text-align: right;\">\n",
       "      <th></th>\n",
       "      <th>Coefficient</th>\n",
       "    </tr>\n",
       "  </thead>\n",
       "  <tbody>\n",
       "    <tr>\n",
       "      <th>q49</th>\n",
       "      <td>-0.035430</td>\n",
       "    </tr>\n",
       "    <tr>\n",
       "      <th>q2</th>\n",
       "      <td>-0.008670</td>\n",
       "    </tr>\n",
       "    <tr>\n",
       "      <th>q157</th>\n",
       "      <td>-0.008420</td>\n",
       "    </tr>\n",
       "    <tr>\n",
       "      <th>q134</th>\n",
       "      <td>-0.004106</td>\n",
       "    </tr>\n",
       "    <tr>\n",
       "      <th>age</th>\n",
       "      <td>-0.003061</td>\n",
       "    </tr>\n",
       "    <tr>\n",
       "      <th>q106</th>\n",
       "      <td>0.001068</td>\n",
       "    </tr>\n",
       "    <tr>\n",
       "      <th>q155</th>\n",
       "      <td>0.002517</td>\n",
       "    </tr>\n",
       "    <tr>\n",
       "      <th>q159</th>\n",
       "      <td>0.003227</td>\n",
       "    </tr>\n",
       "    <tr>\n",
       "      <th>sub_social_status</th>\n",
       "      <td>0.004145</td>\n",
       "    </tr>\n",
       "    <tr>\n",
       "      <th>income</th>\n",
       "      <td>0.005772</td>\n",
       "    </tr>\n",
       "    <tr>\n",
       "      <th>education</th>\n",
       "      <td>0.006778</td>\n",
       "    </tr>\n",
       "    <tr>\n",
       "      <th>q1</th>\n",
       "      <td>0.006780</td>\n",
       "    </tr>\n",
       "    <tr>\n",
       "      <th>q136</th>\n",
       "      <td>0.007082</td>\n",
       "    </tr>\n",
       "    <tr>\n",
       "      <th>q3</th>\n",
       "      <td>0.011191</td>\n",
       "    </tr>\n",
       "    <tr>\n",
       "      <th>q156</th>\n",
       "      <td>0.012615</td>\n",
       "    </tr>\n",
       "    <tr>\n",
       "      <th>q105</th>\n",
       "      <td>0.015225</td>\n",
       "    </tr>\n",
       "    <tr>\n",
       "      <th>q135</th>\n",
       "      <td>0.021722</td>\n",
       "    </tr>\n",
       "    <tr>\n",
       "      <th>gender</th>\n",
       "      <td>0.026251</td>\n",
       "    </tr>\n",
       "    <tr>\n",
       "      <th>q108</th>\n",
       "      <td>0.026525</td>\n",
       "    </tr>\n",
       "    <tr>\n",
       "      <th>q107</th>\n",
       "      <td>0.038907</td>\n",
       "    </tr>\n",
       "    <tr>\n",
       "      <th>single</th>\n",
       "      <td>0.041103</td>\n",
       "    </tr>\n",
       "    <tr>\n",
       "      <th>q9</th>\n",
       "      <td>0.044750</td>\n",
       "    </tr>\n",
       "    <tr>\n",
       "      <th>q56</th>\n",
       "      <td>0.045873</td>\n",
       "    </tr>\n",
       "    <tr>\n",
       "      <th>q57</th>\n",
       "      <td>0.051671</td>\n",
       "    </tr>\n",
       "    <tr>\n",
       "      <th>q4</th>\n",
       "      <td>NaN</td>\n",
       "    </tr>\n",
       "    <tr>\n",
       "      <th>q5</th>\n",
       "      <td>NaN</td>\n",
       "    </tr>\n",
       "    <tr>\n",
       "      <th>q6</th>\n",
       "      <td>NaN</td>\n",
       "    </tr>\n",
       "    <tr>\n",
       "      <th>q15</th>\n",
       "      <td>NaN</td>\n",
       "    </tr>\n",
       "    <tr>\n",
       "      <th>q44</th>\n",
       "      <td>NaN</td>\n",
       "    </tr>\n",
       "    <tr>\n",
       "      <th>q50</th>\n",
       "      <td>NaN</td>\n",
       "    </tr>\n",
       "    <tr>\n",
       "      <th>q51</th>\n",
       "      <td>NaN</td>\n",
       "    </tr>\n",
       "    <tr>\n",
       "      <th>q52</th>\n",
       "      <td>NaN</td>\n",
       "    </tr>\n",
       "    <tr>\n",
       "      <th>q109</th>\n",
       "      <td>NaN</td>\n",
       "    </tr>\n",
       "    <tr>\n",
       "      <th>q158</th>\n",
       "      <td>NaN</td>\n",
       "    </tr>\n",
       "    <tr>\n",
       "      <th>religiosity</th>\n",
       "      <td>NaN</td>\n",
       "    </tr>\n",
       "    <tr>\n",
       "      <th>unemployment</th>\n",
       "      <td>NaN</td>\n",
       "    </tr>\n",
       "    <tr>\n",
       "      <th>rural</th>\n",
       "      <td>NaN</td>\n",
       "    </tr>\n",
       "    <tr>\n",
       "      <th>eth_minority</th>\n",
       "      <td>NaN</td>\n",
       "    </tr>\n",
       "  </tbody>\n",
       "</table>\n",
       "</div>"
      ],
      "text/plain": [
       "                   Coefficient\n",
       "q49                  -0.035430\n",
       "q2                   -0.008670\n",
       "q157                 -0.008420\n",
       "q134                 -0.004106\n",
       "age                  -0.003061\n",
       "q106                  0.001068\n",
       "q155                  0.002517\n",
       "q159                  0.003227\n",
       "sub_social_status     0.004145\n",
       "income                0.005772\n",
       "education             0.006778\n",
       "q1                    0.006780\n",
       "q136                  0.007082\n",
       "q3                    0.011191\n",
       "q156                  0.012615\n",
       "q105                  0.015225\n",
       "q135                  0.021722\n",
       "gender                0.026251\n",
       "q108                  0.026525\n",
       "q107                  0.038907\n",
       "single                0.041103\n",
       "q9                    0.044750\n",
       "q56                   0.045873\n",
       "q57                   0.051671\n",
       "q4                         NaN\n",
       "q5                         NaN\n",
       "q6                         NaN\n",
       "q15                        NaN\n",
       "q44                        NaN\n",
       "q50                        NaN\n",
       "q51                        NaN\n",
       "q52                        NaN\n",
       "q109                       NaN\n",
       "q158                       NaN\n",
       "religiosity                NaN\n",
       "unemployment               NaN\n",
       "rural                      NaN\n",
       "eth_minority               NaN"
      ]
     },
     "execution_count": 886,
     "metadata": {},
     "output_type": "execute_result"
    }
   ],
   "source": [
    "best_lassoRegr = Lasso(max_iter = 10000, alpha = best_para)\n",
    "best_lassoRegr.fit(X_train, y_train)\n",
    "y_pred_lasso = best_lassoRegr.predict(X_test)\n",
    "\n",
    "coefficients_lasso = pd.DataFrame(best_lassoRegr.coef_, index=X_train.columns)\n",
    "coefficients_lasso.rename(columns={coefficients_lasso.columns[0]: \"Coefficient\" }, \\\n",
    "                                   inplace = True)\n",
    "\n",
    "coefficients_lasso[(coefficients_lasso != 0)].sort_values(by='Coefficient',ascending=True)"
   ]
  },
  {
   "cell_type": "code",
   "execution_count": 887,
   "metadata": {},
   "outputs": [
    {
     "data": {
      "text/plain": [
       "Index(['q1', 'q2', 'q3', 'q4', 'q5', 'q6', 'q9', 'q15', 'q44', 'q49', 'q50',\n",
       "       'q51', 'q52', 'q56', 'q57', 'q105', 'q106', 'q107', 'q108', 'q109',\n",
       "       'q134', 'q135', 'q136', 'q155', 'q156', 'q157', 'q158', 'q159', 'age',\n",
       "       'gender', 'single', 'education', 'religiosity', 'unemployment',\n",
       "       'income', 'sub_social_status', 'rural', 'eth_minority', 'q82', 'q82a',\n",
       "       'q83', 'q84', 'q85', 'q86', 'q87', 'q131', 'election',\n",
       "       'election_imputed_median', 'sys_capable_solving_probs', 'proud_of_sys',\n",
       "       'sys_deserves_support', 'rather_live_this_than_other',\n",
       "       'sys_changes_needed', 'multi-party'],\n",
       "      dtype='object')"
      ]
     },
     "execution_count": 887,
     "metadata": {},
     "output_type": "execute_result"
    }
   ],
   "source": [
    "df.columns"
   ]
  },
  {
   "cell_type": "code",
   "execution_count": 888,
   "metadata": {},
   "outputs": [],
   "source": [
    "predictors = ['q1', 'q2', 'q3', 'q4', 'q5', 'q6', 'q9', 'q15', 'q44', 'q49', 'q50',\n",
    "       'q51', 'q52', 'q56', 'q57', 'q105', 'q106', 'q107', 'q108', 'q109',\n",
    "       'q134', 'q135', 'q136', 'q155', 'q156', 'q157', 'q158', 'q159', 'age',\n",
    "       'gender', 'single', 'education', 'religiosity', 'income',\n",
    "       'unemployment', 'sub_social_status', 'rural', 'eth_minority']"
   ]
  },
  {
   "cell_type": "code",
   "execution_count": 889,
   "metadata": {},
   "outputs": [],
   "source": [
    "# same question for each row, 1st uses listwise deletion, 2nd uses median imputation\n",
    "dependent_variables = list(['election', 'election_imputed_median', \n",
    "                            'q83', 'sys_capable_solving_probs',\n",
    "                            'q84', 'proud_of_sys',\n",
    "                            'q85', 'sys_deserves_support',\n",
    "                            'q86', 'rather_live_this_than_other',\n",
    "                            'q87', 'sys_changes_needed', \n",
    "                            'q131', 'multi-party'])"
   ]
  },
  {
   "cell_type": "code",
   "execution_count": 890,
   "metadata": {},
   "outputs": [],
   "source": [
    "# the following codes will write a function that will produce the lasso cofficients for all the dependent variables\n",
    "def produce_lasso_table_for_DVs():\n",
    "\n",
    "    output_table = pd.DataFrame({'Question':predictors})\n",
    "\n",
    "    for dv in dependent_variables:\n",
    "        # corresponding observations in X will need to be deleted as well if y is not imputed by median and contains NAs \n",
    "        X_y = df[~np.isnan(df[dv])] \n",
    "        X = X_y.loc[:,'q1':'eth_minority']\n",
    "        y = X_y.loc[:,dv]\n",
    "        \n",
    "        X_train, X_test, y_train, y_test = train_test_split(X, y, test_size=0.30, random_state=1)\n",
    "\n",
    "        lassoRegr = Lasso(max_iter = 10000)\n",
    "        alphas = np.logspace(-15, -1, 100)\n",
    "        \n",
    "        #use 5 fold CV to choose the best parameter for alpha\n",
    "        train_scores, test_scores = validation_curve(\n",
    "            lassoRegr, X_train, y_train, cv=5, param_name=\"alpha\", param_range=alphas,\n",
    "            scoring=\"neg_root_mean_squared_error\")\n",
    "\n",
    "        best_para = parameter_cross_validation(alphas, train_scores, test_scores)\n",
    "\n",
    "        best_lassoRegr = Lasso(max_iter = 10000, alpha = best_para)\n",
    "        best_lassoRegr.fit(X_train, y_train)\n",
    "        y_pred_lasso = best_lassoRegr.predict(X_test)   \n",
    "\n",
    "        coefficients_lasso = pd.DataFrame(best_lassoRegr.coef_, index=X_train.columns)\n",
    "        coefficients_lasso.reset_index(inplace=True)\n",
    "        coefficients_lasso.rename(columns={coefficients_lasso.columns[0]: 'Question',\n",
    "                                       coefficients_lasso.columns[1]: dv}, \\\n",
    "                                          inplace = True)\n",
    "\n",
    "        output_table = output_table.merge(coefficients_lasso, left_on='Question', right_on='Question')\n",
    "    \n",
    "    output_table.replace(0, np.nan, inplace=True)\n",
    "    \n",
    "    return output_table\n",
    "    "
   ]
  },
  {
   "cell_type": "code",
   "execution_count": 891,
   "metadata": {},
   "outputs": [
    {
     "data": {
      "text/html": [
       "<div>\n",
       "<style scoped>\n",
       "    .dataframe tbody tr th:only-of-type {\n",
       "        vertical-align: middle;\n",
       "    }\n",
       "\n",
       "    .dataframe tbody tr th {\n",
       "        vertical-align: top;\n",
       "    }\n",
       "\n",
       "    .dataframe thead th {\n",
       "        text-align: right;\n",
       "    }\n",
       "</style>\n",
       "<table border=\"1\" class=\"dataframe\">\n",
       "  <thead>\n",
       "    <tr style=\"text-align: right;\">\n",
       "      <th></th>\n",
       "      <th>Question</th>\n",
       "      <th>election</th>\n",
       "      <th>election_imputed_median</th>\n",
       "      <th>q83</th>\n",
       "      <th>sys_capable_solving_probs</th>\n",
       "      <th>q84</th>\n",
       "      <th>proud_of_sys</th>\n",
       "      <th>q85</th>\n",
       "      <th>sys_deserves_support</th>\n",
       "      <th>q86</th>\n",
       "      <th>rather_live_this_than_other</th>\n",
       "      <th>q87</th>\n",
       "      <th>sys_changes_needed</th>\n",
       "      <th>q131</th>\n",
       "      <th>multi-party</th>\n",
       "    </tr>\n",
       "  </thead>\n",
       "  <tbody>\n",
       "    <tr>\n",
       "      <th>0</th>\n",
       "      <td>q1</td>\n",
       "      <td>-0.018076</td>\n",
       "      <td>-0.014705</td>\n",
       "      <td>0.028842</td>\n",
       "      <td>0.020317</td>\n",
       "      <td>0.025493</td>\n",
       "      <td>0.018527</td>\n",
       "      <td>0.018562</td>\n",
       "      <td>0.017120</td>\n",
       "      <td>0.027146</td>\n",
       "      <td>0.008141</td>\n",
       "      <td>-0.052669</td>\n",
       "      <td>-0.033303</td>\n",
       "      <td>-0.012272</td>\n",
       "      <td>-0.006780</td>\n",
       "    </tr>\n",
       "    <tr>\n",
       "      <th>1</th>\n",
       "      <td>q2</td>\n",
       "      <td>0.000124</td>\n",
       "      <td>NaN</td>\n",
       "      <td>0.001752</td>\n",
       "      <td>NaN</td>\n",
       "      <td>NaN</td>\n",
       "      <td>0.006879</td>\n",
       "      <td>NaN</td>\n",
       "      <td>NaN</td>\n",
       "      <td>NaN</td>\n",
       "      <td>NaN</td>\n",
       "      <td>-0.011502</td>\n",
       "      <td>NaN</td>\n",
       "      <td>NaN</td>\n",
       "      <td>0.008670</td>\n",
       "    </tr>\n",
       "    <tr>\n",
       "      <th>2</th>\n",
       "      <td>q3</td>\n",
       "      <td>-0.026673</td>\n",
       "      <td>NaN</td>\n",
       "      <td>0.009814</td>\n",
       "      <td>NaN</td>\n",
       "      <td>0.018698</td>\n",
       "      <td>0.018560</td>\n",
       "      <td>NaN</td>\n",
       "      <td>NaN</td>\n",
       "      <td>0.013061</td>\n",
       "      <td>0.012955</td>\n",
       "      <td>NaN</td>\n",
       "      <td>-0.013476</td>\n",
       "      <td>-0.000494</td>\n",
       "      <td>-0.011191</td>\n",
       "    </tr>\n",
       "    <tr>\n",
       "      <th>3</th>\n",
       "      <td>q4</td>\n",
       "      <td>NaN</td>\n",
       "      <td>NaN</td>\n",
       "      <td>0.002996</td>\n",
       "      <td>NaN</td>\n",
       "      <td>NaN</td>\n",
       "      <td>0.003450</td>\n",
       "      <td>NaN</td>\n",
       "      <td>0.007495</td>\n",
       "      <td>NaN</td>\n",
       "      <td>NaN</td>\n",
       "      <td>NaN</td>\n",
       "      <td>NaN</td>\n",
       "      <td>NaN</td>\n",
       "      <td>NaN</td>\n",
       "    </tr>\n",
       "    <tr>\n",
       "      <th>4</th>\n",
       "      <td>q5</td>\n",
       "      <td>0.000421</td>\n",
       "      <td>NaN</td>\n",
       "      <td>0.005465</td>\n",
       "      <td>NaN</td>\n",
       "      <td>-0.002570</td>\n",
       "      <td>NaN</td>\n",
       "      <td>-0.009886</td>\n",
       "      <td>NaN</td>\n",
       "      <td>NaN</td>\n",
       "      <td>NaN</td>\n",
       "      <td>NaN</td>\n",
       "      <td>NaN</td>\n",
       "      <td>NaN</td>\n",
       "      <td>NaN</td>\n",
       "    </tr>\n",
       "    <tr>\n",
       "      <th>5</th>\n",
       "      <td>q6</td>\n",
       "      <td>NaN</td>\n",
       "      <td>-0.007241</td>\n",
       "      <td>NaN</td>\n",
       "      <td>NaN</td>\n",
       "      <td>NaN</td>\n",
       "      <td>-0.005542</td>\n",
       "      <td>NaN</td>\n",
       "      <td>-0.011179</td>\n",
       "      <td>NaN</td>\n",
       "      <td>NaN</td>\n",
       "      <td>-0.001675</td>\n",
       "      <td>NaN</td>\n",
       "      <td>NaN</td>\n",
       "      <td>NaN</td>\n",
       "    </tr>\n",
       "    <tr>\n",
       "      <th>6</th>\n",
       "      <td>q9</td>\n",
       "      <td>0.026326</td>\n",
       "      <td>NaN</td>\n",
       "      <td>0.036165</td>\n",
       "      <td>0.037527</td>\n",
       "      <td>0.063366</td>\n",
       "      <td>0.047308</td>\n",
       "      <td>0.031981</td>\n",
       "      <td>0.034120</td>\n",
       "      <td>0.039750</td>\n",
       "      <td>0.042485</td>\n",
       "      <td>-0.020377</td>\n",
       "      <td>-0.014825</td>\n",
       "      <td>-0.072009</td>\n",
       "      <td>-0.044750</td>\n",
       "    </tr>\n",
       "    <tr>\n",
       "      <th>7</th>\n",
       "      <td>q15</td>\n",
       "      <td>NaN</td>\n",
       "      <td>NaN</td>\n",
       "      <td>0.026813</td>\n",
       "      <td>0.018040</td>\n",
       "      <td>0.023135</td>\n",
       "      <td>0.020830</td>\n",
       "      <td>0.017192</td>\n",
       "      <td>0.014266</td>\n",
       "      <td>0.006205</td>\n",
       "      <td>NaN</td>\n",
       "      <td>-0.083961</td>\n",
       "      <td>-0.078164</td>\n",
       "      <td>NaN</td>\n",
       "      <td>NaN</td>\n",
       "    </tr>\n",
       "    <tr>\n",
       "      <th>8</th>\n",
       "      <td>q44</td>\n",
       "      <td>NaN</td>\n",
       "      <td>0.002971</td>\n",
       "      <td>NaN</td>\n",
       "      <td>NaN</td>\n",
       "      <td>0.001780</td>\n",
       "      <td>0.007288</td>\n",
       "      <td>0.005606</td>\n",
       "      <td>0.000253</td>\n",
       "      <td>NaN</td>\n",
       "      <td>NaN</td>\n",
       "      <td>-0.000426</td>\n",
       "      <td>NaN</td>\n",
       "      <td>NaN</td>\n",
       "      <td>NaN</td>\n",
       "    </tr>\n",
       "    <tr>\n",
       "      <th>9</th>\n",
       "      <td>q49</td>\n",
       "      <td>NaN</td>\n",
       "      <td>NaN</td>\n",
       "      <td>NaN</td>\n",
       "      <td>NaN</td>\n",
       "      <td>-0.009388</td>\n",
       "      <td>-0.038095</td>\n",
       "      <td>NaN</td>\n",
       "      <td>0.011606</td>\n",
       "      <td>-0.018925</td>\n",
       "      <td>-0.014545</td>\n",
       "      <td>NaN</td>\n",
       "      <td>0.030612</td>\n",
       "      <td>0.026954</td>\n",
       "      <td>0.035430</td>\n",
       "    </tr>\n",
       "    <tr>\n",
       "      <th>10</th>\n",
       "      <td>q50</td>\n",
       "      <td>NaN</td>\n",
       "      <td>NaN</td>\n",
       "      <td>0.006737</td>\n",
       "      <td>NaN</td>\n",
       "      <td>NaN</td>\n",
       "      <td>-0.008925</td>\n",
       "      <td>NaN</td>\n",
       "      <td>0.023726</td>\n",
       "      <td>NaN</td>\n",
       "      <td>NaN</td>\n",
       "      <td>NaN</td>\n",
       "      <td>NaN</td>\n",
       "      <td>NaN</td>\n",
       "      <td>NaN</td>\n",
       "    </tr>\n",
       "    <tr>\n",
       "      <th>11</th>\n",
       "      <td>q51</td>\n",
       "      <td>NaN</td>\n",
       "      <td>NaN</td>\n",
       "      <td>NaN</td>\n",
       "      <td>NaN</td>\n",
       "      <td>0.026546</td>\n",
       "      <td>0.028920</td>\n",
       "      <td>0.017736</td>\n",
       "      <td>0.026993</td>\n",
       "      <td>NaN</td>\n",
       "      <td>NaN</td>\n",
       "      <td>NaN</td>\n",
       "      <td>NaN</td>\n",
       "      <td>-0.002165</td>\n",
       "      <td>NaN</td>\n",
       "    </tr>\n",
       "    <tr>\n",
       "      <th>12</th>\n",
       "      <td>q52</td>\n",
       "      <td>NaN</td>\n",
       "      <td>NaN</td>\n",
       "      <td>NaN</td>\n",
       "      <td>NaN</td>\n",
       "      <td>NaN</td>\n",
       "      <td>-0.016500</td>\n",
       "      <td>NaN</td>\n",
       "      <td>NaN</td>\n",
       "      <td>NaN</td>\n",
       "      <td>NaN</td>\n",
       "      <td>NaN</td>\n",
       "      <td>NaN</td>\n",
       "      <td>NaN</td>\n",
       "      <td>NaN</td>\n",
       "    </tr>\n",
       "    <tr>\n",
       "      <th>13</th>\n",
       "      <td>q56</td>\n",
       "      <td>0.012843</td>\n",
       "      <td>NaN</td>\n",
       "      <td>0.043372</td>\n",
       "      <td>0.037519</td>\n",
       "      <td>0.042367</td>\n",
       "      <td>0.046712</td>\n",
       "      <td>0.034225</td>\n",
       "      <td>0.026757</td>\n",
       "      <td>0.028306</td>\n",
       "      <td>0.029992</td>\n",
       "      <td>-0.005342</td>\n",
       "      <td>-0.005284</td>\n",
       "      <td>-0.032206</td>\n",
       "      <td>-0.045873</td>\n",
       "    </tr>\n",
       "    <tr>\n",
       "      <th>14</th>\n",
       "      <td>q57</td>\n",
       "      <td>0.023501</td>\n",
       "      <td>0.013280</td>\n",
       "      <td>0.061004</td>\n",
       "      <td>0.028249</td>\n",
       "      <td>0.048208</td>\n",
       "      <td>0.037785</td>\n",
       "      <td>0.029297</td>\n",
       "      <td>0.033141</td>\n",
       "      <td>0.048845</td>\n",
       "      <td>0.060583</td>\n",
       "      <td>-0.016152</td>\n",
       "      <td>-0.008603</td>\n",
       "      <td>-0.056984</td>\n",
       "      <td>-0.051671</td>\n",
       "    </tr>\n",
       "    <tr>\n",
       "      <th>15</th>\n",
       "      <td>q105</td>\n",
       "      <td>0.063957</td>\n",
       "      <td>0.054756</td>\n",
       "      <td>0.045295</td>\n",
       "      <td>0.032250</td>\n",
       "      <td>0.026800</td>\n",
       "      <td>0.026890</td>\n",
       "      <td>NaN</td>\n",
       "      <td>NaN</td>\n",
       "      <td>0.036644</td>\n",
       "      <td>0.020064</td>\n",
       "      <td>-0.021356</td>\n",
       "      <td>-0.015062</td>\n",
       "      <td>-0.004221</td>\n",
       "      <td>-0.015225</td>\n",
       "    </tr>\n",
       "    <tr>\n",
       "      <th>16</th>\n",
       "      <td>q106</td>\n",
       "      <td>NaN</td>\n",
       "      <td>NaN</td>\n",
       "      <td>NaN</td>\n",
       "      <td>NaN</td>\n",
       "      <td>0.003774</td>\n",
       "      <td>0.005484</td>\n",
       "      <td>0.021092</td>\n",
       "      <td>0.007155</td>\n",
       "      <td>NaN</td>\n",
       "      <td>NaN</td>\n",
       "      <td>-0.010865</td>\n",
       "      <td>NaN</td>\n",
       "      <td>-0.001257</td>\n",
       "      <td>-0.001068</td>\n",
       "    </tr>\n",
       "    <tr>\n",
       "      <th>17</th>\n",
       "      <td>q107</td>\n",
       "      <td>NaN</td>\n",
       "      <td>NaN</td>\n",
       "      <td>0.016973</td>\n",
       "      <td>0.020593</td>\n",
       "      <td>0.009678</td>\n",
       "      <td>0.030029</td>\n",
       "      <td>0.030043</td>\n",
       "      <td>0.023917</td>\n",
       "      <td>0.031888</td>\n",
       "      <td>0.045785</td>\n",
       "      <td>-0.016390</td>\n",
       "      <td>-0.000970</td>\n",
       "      <td>-0.038046</td>\n",
       "      <td>-0.038907</td>\n",
       "    </tr>\n",
       "    <tr>\n",
       "      <th>18</th>\n",
       "      <td>q108</td>\n",
       "      <td>NaN</td>\n",
       "      <td>NaN</td>\n",
       "      <td>0.041731</td>\n",
       "      <td>0.031006</td>\n",
       "      <td>0.055665</td>\n",
       "      <td>0.046025</td>\n",
       "      <td>0.012063</td>\n",
       "      <td>0.010931</td>\n",
       "      <td>0.050667</td>\n",
       "      <td>0.043626</td>\n",
       "      <td>NaN</td>\n",
       "      <td>-0.001467</td>\n",
       "      <td>-0.032329</td>\n",
       "      <td>-0.026525</td>\n",
       "    </tr>\n",
       "    <tr>\n",
       "      <th>19</th>\n",
       "      <td>q109</td>\n",
       "      <td>-0.000089</td>\n",
       "      <td>NaN</td>\n",
       "      <td>0.010766</td>\n",
       "      <td>0.000059</td>\n",
       "      <td>0.013227</td>\n",
       "      <td>0.014516</td>\n",
       "      <td>0.047201</td>\n",
       "      <td>0.041261</td>\n",
       "      <td>0.000799</td>\n",
       "      <td>NaN</td>\n",
       "      <td>0.013305</td>\n",
       "      <td>NaN</td>\n",
       "      <td>NaN</td>\n",
       "      <td>NaN</td>\n",
       "    </tr>\n",
       "    <tr>\n",
       "      <th>20</th>\n",
       "      <td>q134</td>\n",
       "      <td>0.020894</td>\n",
       "      <td>0.014691</td>\n",
       "      <td>0.000021</td>\n",
       "      <td>NaN</td>\n",
       "      <td>0.009058</td>\n",
       "      <td>0.003637</td>\n",
       "      <td>0.002129</td>\n",
       "      <td>0.003362</td>\n",
       "      <td>-0.011438</td>\n",
       "      <td>NaN</td>\n",
       "      <td>0.017528</td>\n",
       "      <td>0.029787</td>\n",
       "      <td>NaN</td>\n",
       "      <td>0.004106</td>\n",
       "    </tr>\n",
       "    <tr>\n",
       "      <th>21</th>\n",
       "      <td>q135</td>\n",
       "      <td>-0.018550</td>\n",
       "      <td>-0.001366</td>\n",
       "      <td>NaN</td>\n",
       "      <td>NaN</td>\n",
       "      <td>0.009209</td>\n",
       "      <td>NaN</td>\n",
       "      <td>-0.001412</td>\n",
       "      <td>0.008332</td>\n",
       "      <td>0.023005</td>\n",
       "      <td>0.021754</td>\n",
       "      <td>NaN</td>\n",
       "      <td>-0.007831</td>\n",
       "      <td>-0.018629</td>\n",
       "      <td>-0.021722</td>\n",
       "    </tr>\n",
       "    <tr>\n",
       "      <th>22</th>\n",
       "      <td>q136</td>\n",
       "      <td>NaN</td>\n",
       "      <td>NaN</td>\n",
       "      <td>0.024063</td>\n",
       "      <td>0.006903</td>\n",
       "      <td>0.003872</td>\n",
       "      <td>0.003806</td>\n",
       "      <td>0.026962</td>\n",
       "      <td>0.020514</td>\n",
       "      <td>NaN</td>\n",
       "      <td>NaN</td>\n",
       "      <td>NaN</td>\n",
       "      <td>NaN</td>\n",
       "      <td>NaN</td>\n",
       "      <td>-0.007082</td>\n",
       "    </tr>\n",
       "    <tr>\n",
       "      <th>23</th>\n",
       "      <td>q155</td>\n",
       "      <td>-0.011567</td>\n",
       "      <td>NaN</td>\n",
       "      <td>0.042041</td>\n",
       "      <td>0.037555</td>\n",
       "      <td>0.055449</td>\n",
       "      <td>0.030745</td>\n",
       "      <td>0.011144</td>\n",
       "      <td>0.023864</td>\n",
       "      <td>0.045709</td>\n",
       "      <td>0.028268</td>\n",
       "      <td>-0.046770</td>\n",
       "      <td>-0.047614</td>\n",
       "      <td>-0.020111</td>\n",
       "      <td>-0.002517</td>\n",
       "    </tr>\n",
       "    <tr>\n",
       "      <th>24</th>\n",
       "      <td>q156</td>\n",
       "      <td>0.032152</td>\n",
       "      <td>NaN</td>\n",
       "      <td>NaN</td>\n",
       "      <td>0.009657</td>\n",
       "      <td>-0.008248</td>\n",
       "      <td>-0.017016</td>\n",
       "      <td>NaN</td>\n",
       "      <td>0.006399</td>\n",
       "      <td>NaN</td>\n",
       "      <td>NaN</td>\n",
       "      <td>0.008883</td>\n",
       "      <td>0.017594</td>\n",
       "      <td>-0.005242</td>\n",
       "      <td>-0.012615</td>\n",
       "    </tr>\n",
       "    <tr>\n",
       "      <th>25</th>\n",
       "      <td>q157</td>\n",
       "      <td>0.015235</td>\n",
       "      <td>NaN</td>\n",
       "      <td>-0.000334</td>\n",
       "      <td>NaN</td>\n",
       "      <td>-0.007648</td>\n",
       "      <td>-0.001845</td>\n",
       "      <td>NaN</td>\n",
       "      <td>0.014122</td>\n",
       "      <td>NaN</td>\n",
       "      <td>NaN</td>\n",
       "      <td>-0.001728</td>\n",
       "      <td>-0.024438</td>\n",
       "      <td>NaN</td>\n",
       "      <td>0.008420</td>\n",
       "    </tr>\n",
       "    <tr>\n",
       "      <th>26</th>\n",
       "      <td>q158</td>\n",
       "      <td>0.020498</td>\n",
       "      <td>NaN</td>\n",
       "      <td>-0.003665</td>\n",
       "      <td>NaN</td>\n",
       "      <td>NaN</td>\n",
       "      <td>-0.004444</td>\n",
       "      <td>NaN</td>\n",
       "      <td>NaN</td>\n",
       "      <td>-0.000176</td>\n",
       "      <td>NaN</td>\n",
       "      <td>NaN</td>\n",
       "      <td>-0.007996</td>\n",
       "      <td>NaN</td>\n",
       "      <td>NaN</td>\n",
       "    </tr>\n",
       "    <tr>\n",
       "      <th>27</th>\n",
       "      <td>q159</td>\n",
       "      <td>-0.017597</td>\n",
       "      <td>-0.011073</td>\n",
       "      <td>0.021065</td>\n",
       "      <td>0.020590</td>\n",
       "      <td>NaN</td>\n",
       "      <td>0.001836</td>\n",
       "      <td>0.025161</td>\n",
       "      <td>0.014098</td>\n",
       "      <td>0.011268</td>\n",
       "      <td>NaN</td>\n",
       "      <td>-0.018714</td>\n",
       "      <td>-0.023988</td>\n",
       "      <td>NaN</td>\n",
       "      <td>-0.003227</td>\n",
       "    </tr>\n",
       "    <tr>\n",
       "      <th>28</th>\n",
       "      <td>age</td>\n",
       "      <td>0.001888</td>\n",
       "      <td>0.002164</td>\n",
       "      <td>0.001485</td>\n",
       "      <td>0.002335</td>\n",
       "      <td>0.001352</td>\n",
       "      <td>0.000743</td>\n",
       "      <td>0.003964</td>\n",
       "      <td>0.003352</td>\n",
       "      <td>0.003414</td>\n",
       "      <td>0.002841</td>\n",
       "      <td>-0.005869</td>\n",
       "      <td>-0.003965</td>\n",
       "      <td>-0.005344</td>\n",
       "      <td>-0.003061</td>\n",
       "    </tr>\n",
       "    <tr>\n",
       "      <th>29</th>\n",
       "      <td>gender</td>\n",
       "      <td>NaN</td>\n",
       "      <td>NaN</td>\n",
       "      <td>NaN</td>\n",
       "      <td>NaN</td>\n",
       "      <td>NaN</td>\n",
       "      <td>0.013085</td>\n",
       "      <td>NaN</td>\n",
       "      <td>-0.005357</td>\n",
       "      <td>NaN</td>\n",
       "      <td>NaN</td>\n",
       "      <td>NaN</td>\n",
       "      <td>NaN</td>\n",
       "      <td>0.009418</td>\n",
       "      <td>0.026251</td>\n",
       "    </tr>\n",
       "    <tr>\n",
       "      <th>30</th>\n",
       "      <td>single</td>\n",
       "      <td>NaN</td>\n",
       "      <td>NaN</td>\n",
       "      <td>NaN</td>\n",
       "      <td>NaN</td>\n",
       "      <td>NaN</td>\n",
       "      <td>NaN</td>\n",
       "      <td>0.034879</td>\n",
       "      <td>0.044349</td>\n",
       "      <td>NaN</td>\n",
       "      <td>NaN</td>\n",
       "      <td>NaN</td>\n",
       "      <td>NaN</td>\n",
       "      <td>NaN</td>\n",
       "      <td>0.041103</td>\n",
       "    </tr>\n",
       "    <tr>\n",
       "      <th>31</th>\n",
       "      <td>education</td>\n",
       "      <td>0.001368</td>\n",
       "      <td>0.002654</td>\n",
       "      <td>-0.000866</td>\n",
       "      <td>-0.001950</td>\n",
       "      <td>-0.005458</td>\n",
       "      <td>-0.002884</td>\n",
       "      <td>-0.010577</td>\n",
       "      <td>-0.009717</td>\n",
       "      <td>-0.004741</td>\n",
       "      <td>NaN</td>\n",
       "      <td>-0.012059</td>\n",
       "      <td>-0.003580</td>\n",
       "      <td>0.006192</td>\n",
       "      <td>0.006778</td>\n",
       "    </tr>\n",
       "    <tr>\n",
       "      <th>32</th>\n",
       "      <td>religiosity</td>\n",
       "      <td>NaN</td>\n",
       "      <td>NaN</td>\n",
       "      <td>NaN</td>\n",
       "      <td>NaN</td>\n",
       "      <td>NaN</td>\n",
       "      <td>NaN</td>\n",
       "      <td>NaN</td>\n",
       "      <td>NaN</td>\n",
       "      <td>NaN</td>\n",
       "      <td>NaN</td>\n",
       "      <td>NaN</td>\n",
       "      <td>0.018576</td>\n",
       "      <td>NaN</td>\n",
       "      <td>NaN</td>\n",
       "    </tr>\n",
       "    <tr>\n",
       "      <th>33</th>\n",
       "      <td>income</td>\n",
       "      <td>NaN</td>\n",
       "      <td>NaN</td>\n",
       "      <td>NaN</td>\n",
       "      <td>NaN</td>\n",
       "      <td>-0.000752</td>\n",
       "      <td>-0.012692</td>\n",
       "      <td>NaN</td>\n",
       "      <td>-0.005395</td>\n",
       "      <td>-0.004099</td>\n",
       "      <td>-0.007162</td>\n",
       "      <td>0.006120</td>\n",
       "      <td>0.011426</td>\n",
       "      <td>NaN</td>\n",
       "      <td>0.005772</td>\n",
       "    </tr>\n",
       "    <tr>\n",
       "      <th>34</th>\n",
       "      <td>unemployment</td>\n",
       "      <td>NaN</td>\n",
       "      <td>NaN</td>\n",
       "      <td>NaN</td>\n",
       "      <td>NaN</td>\n",
       "      <td>NaN</td>\n",
       "      <td>NaN</td>\n",
       "      <td>NaN</td>\n",
       "      <td>NaN</td>\n",
       "      <td>NaN</td>\n",
       "      <td>NaN</td>\n",
       "      <td>NaN</td>\n",
       "      <td>NaN</td>\n",
       "      <td>NaN</td>\n",
       "      <td>NaN</td>\n",
       "    </tr>\n",
       "    <tr>\n",
       "      <th>35</th>\n",
       "      <td>sub_social_status</td>\n",
       "      <td>0.015480</td>\n",
       "      <td>NaN</td>\n",
       "      <td>0.001208</td>\n",
       "      <td>0.009020</td>\n",
       "      <td>0.011921</td>\n",
       "      <td>0.010699</td>\n",
       "      <td>0.006987</td>\n",
       "      <td>0.001671</td>\n",
       "      <td>NaN</td>\n",
       "      <td>NaN</td>\n",
       "      <td>-0.003041</td>\n",
       "      <td>-0.000194</td>\n",
       "      <td>NaN</td>\n",
       "      <td>0.004145</td>\n",
       "    </tr>\n",
       "    <tr>\n",
       "      <th>36</th>\n",
       "      <td>rural</td>\n",
       "      <td>NaN</td>\n",
       "      <td>NaN</td>\n",
       "      <td>NaN</td>\n",
       "      <td>NaN</td>\n",
       "      <td>NaN</td>\n",
       "      <td>NaN</td>\n",
       "      <td>NaN</td>\n",
       "      <td>-0.016912</td>\n",
       "      <td>NaN</td>\n",
       "      <td>NaN</td>\n",
       "      <td>NaN</td>\n",
       "      <td>NaN</td>\n",
       "      <td>-0.003687</td>\n",
       "      <td>NaN</td>\n",
       "    </tr>\n",
       "    <tr>\n",
       "      <th>37</th>\n",
       "      <td>eth_minority</td>\n",
       "      <td>NaN</td>\n",
       "      <td>NaN</td>\n",
       "      <td>NaN</td>\n",
       "      <td>NaN</td>\n",
       "      <td>NaN</td>\n",
       "      <td>0.023917</td>\n",
       "      <td>NaN</td>\n",
       "      <td>NaN</td>\n",
       "      <td>NaN</td>\n",
       "      <td>NaN</td>\n",
       "      <td>NaN</td>\n",
       "      <td>NaN</td>\n",
       "      <td>NaN</td>\n",
       "      <td>NaN</td>\n",
       "    </tr>\n",
       "  </tbody>\n",
       "</table>\n",
       "</div>"
      ],
      "text/plain": [
       "             Question  election  election_imputed_median       q83  \\\n",
       "0                  q1 -0.018076                -0.014705  0.028842   \n",
       "1                  q2  0.000124                      NaN  0.001752   \n",
       "2                  q3 -0.026673                      NaN  0.009814   \n",
       "3                  q4       NaN                      NaN  0.002996   \n",
       "4                  q5  0.000421                      NaN  0.005465   \n",
       "5                  q6       NaN                -0.007241       NaN   \n",
       "6                  q9  0.026326                      NaN  0.036165   \n",
       "7                 q15       NaN                      NaN  0.026813   \n",
       "8                 q44       NaN                 0.002971       NaN   \n",
       "9                 q49       NaN                      NaN       NaN   \n",
       "10                q50       NaN                      NaN  0.006737   \n",
       "11                q51       NaN                      NaN       NaN   \n",
       "12                q52       NaN                      NaN       NaN   \n",
       "13                q56  0.012843                      NaN  0.043372   \n",
       "14                q57  0.023501                 0.013280  0.061004   \n",
       "15               q105  0.063957                 0.054756  0.045295   \n",
       "16               q106       NaN                      NaN       NaN   \n",
       "17               q107       NaN                      NaN  0.016973   \n",
       "18               q108       NaN                      NaN  0.041731   \n",
       "19               q109 -0.000089                      NaN  0.010766   \n",
       "20               q134  0.020894                 0.014691  0.000021   \n",
       "21               q135 -0.018550                -0.001366       NaN   \n",
       "22               q136       NaN                      NaN  0.024063   \n",
       "23               q155 -0.011567                      NaN  0.042041   \n",
       "24               q156  0.032152                      NaN       NaN   \n",
       "25               q157  0.015235                      NaN -0.000334   \n",
       "26               q158  0.020498                      NaN -0.003665   \n",
       "27               q159 -0.017597                -0.011073  0.021065   \n",
       "28                age  0.001888                 0.002164  0.001485   \n",
       "29             gender       NaN                      NaN       NaN   \n",
       "30             single       NaN                      NaN       NaN   \n",
       "31          education  0.001368                 0.002654 -0.000866   \n",
       "32        religiosity       NaN                      NaN       NaN   \n",
       "33             income       NaN                      NaN       NaN   \n",
       "34       unemployment       NaN                      NaN       NaN   \n",
       "35  sub_social_status  0.015480                      NaN  0.001208   \n",
       "36              rural       NaN                      NaN       NaN   \n",
       "37       eth_minority       NaN                      NaN       NaN   \n",
       "\n",
       "    sys_capable_solving_probs       q84  proud_of_sys       q85  \\\n",
       "0                    0.020317  0.025493      0.018527  0.018562   \n",
       "1                         NaN       NaN      0.006879       NaN   \n",
       "2                         NaN  0.018698      0.018560       NaN   \n",
       "3                         NaN       NaN      0.003450       NaN   \n",
       "4                         NaN -0.002570           NaN -0.009886   \n",
       "5                         NaN       NaN     -0.005542       NaN   \n",
       "6                    0.037527  0.063366      0.047308  0.031981   \n",
       "7                    0.018040  0.023135      0.020830  0.017192   \n",
       "8                         NaN  0.001780      0.007288  0.005606   \n",
       "9                         NaN -0.009388     -0.038095       NaN   \n",
       "10                        NaN       NaN     -0.008925       NaN   \n",
       "11                        NaN  0.026546      0.028920  0.017736   \n",
       "12                        NaN       NaN     -0.016500       NaN   \n",
       "13                   0.037519  0.042367      0.046712  0.034225   \n",
       "14                   0.028249  0.048208      0.037785  0.029297   \n",
       "15                   0.032250  0.026800      0.026890       NaN   \n",
       "16                        NaN  0.003774      0.005484  0.021092   \n",
       "17                   0.020593  0.009678      0.030029  0.030043   \n",
       "18                   0.031006  0.055665      0.046025  0.012063   \n",
       "19                   0.000059  0.013227      0.014516  0.047201   \n",
       "20                        NaN  0.009058      0.003637  0.002129   \n",
       "21                        NaN  0.009209           NaN -0.001412   \n",
       "22                   0.006903  0.003872      0.003806  0.026962   \n",
       "23                   0.037555  0.055449      0.030745  0.011144   \n",
       "24                   0.009657 -0.008248     -0.017016       NaN   \n",
       "25                        NaN -0.007648     -0.001845       NaN   \n",
       "26                        NaN       NaN     -0.004444       NaN   \n",
       "27                   0.020590       NaN      0.001836  0.025161   \n",
       "28                   0.002335  0.001352      0.000743  0.003964   \n",
       "29                        NaN       NaN      0.013085       NaN   \n",
       "30                        NaN       NaN           NaN  0.034879   \n",
       "31                  -0.001950 -0.005458     -0.002884 -0.010577   \n",
       "32                        NaN       NaN           NaN       NaN   \n",
       "33                        NaN -0.000752     -0.012692       NaN   \n",
       "34                        NaN       NaN           NaN       NaN   \n",
       "35                   0.009020  0.011921      0.010699  0.006987   \n",
       "36                        NaN       NaN           NaN       NaN   \n",
       "37                        NaN       NaN      0.023917       NaN   \n",
       "\n",
       "    sys_deserves_support       q86  rather_live_this_than_other       q87  \\\n",
       "0               0.017120  0.027146                     0.008141 -0.052669   \n",
       "1                    NaN       NaN                          NaN -0.011502   \n",
       "2                    NaN  0.013061                     0.012955       NaN   \n",
       "3               0.007495       NaN                          NaN       NaN   \n",
       "4                    NaN       NaN                          NaN       NaN   \n",
       "5              -0.011179       NaN                          NaN -0.001675   \n",
       "6               0.034120  0.039750                     0.042485 -0.020377   \n",
       "7               0.014266  0.006205                          NaN -0.083961   \n",
       "8               0.000253       NaN                          NaN -0.000426   \n",
       "9               0.011606 -0.018925                    -0.014545       NaN   \n",
       "10              0.023726       NaN                          NaN       NaN   \n",
       "11              0.026993       NaN                          NaN       NaN   \n",
       "12                   NaN       NaN                          NaN       NaN   \n",
       "13              0.026757  0.028306                     0.029992 -0.005342   \n",
       "14              0.033141  0.048845                     0.060583 -0.016152   \n",
       "15                   NaN  0.036644                     0.020064 -0.021356   \n",
       "16              0.007155       NaN                          NaN -0.010865   \n",
       "17              0.023917  0.031888                     0.045785 -0.016390   \n",
       "18              0.010931  0.050667                     0.043626       NaN   \n",
       "19              0.041261  0.000799                          NaN  0.013305   \n",
       "20              0.003362 -0.011438                          NaN  0.017528   \n",
       "21              0.008332  0.023005                     0.021754       NaN   \n",
       "22              0.020514       NaN                          NaN       NaN   \n",
       "23              0.023864  0.045709                     0.028268 -0.046770   \n",
       "24              0.006399       NaN                          NaN  0.008883   \n",
       "25              0.014122       NaN                          NaN -0.001728   \n",
       "26                   NaN -0.000176                          NaN       NaN   \n",
       "27              0.014098  0.011268                          NaN -0.018714   \n",
       "28              0.003352  0.003414                     0.002841 -0.005869   \n",
       "29             -0.005357       NaN                          NaN       NaN   \n",
       "30              0.044349       NaN                          NaN       NaN   \n",
       "31             -0.009717 -0.004741                          NaN -0.012059   \n",
       "32                   NaN       NaN                          NaN       NaN   \n",
       "33             -0.005395 -0.004099                    -0.007162  0.006120   \n",
       "34                   NaN       NaN                          NaN       NaN   \n",
       "35              0.001671       NaN                          NaN -0.003041   \n",
       "36             -0.016912       NaN                          NaN       NaN   \n",
       "37                   NaN       NaN                          NaN       NaN   \n",
       "\n",
       "    sys_changes_needed      q131  multi-party  \n",
       "0            -0.033303 -0.012272    -0.006780  \n",
       "1                  NaN       NaN     0.008670  \n",
       "2            -0.013476 -0.000494    -0.011191  \n",
       "3                  NaN       NaN          NaN  \n",
       "4                  NaN       NaN          NaN  \n",
       "5                  NaN       NaN          NaN  \n",
       "6            -0.014825 -0.072009    -0.044750  \n",
       "7            -0.078164       NaN          NaN  \n",
       "8                  NaN       NaN          NaN  \n",
       "9             0.030612  0.026954     0.035430  \n",
       "10                 NaN       NaN          NaN  \n",
       "11                 NaN -0.002165          NaN  \n",
       "12                 NaN       NaN          NaN  \n",
       "13           -0.005284 -0.032206    -0.045873  \n",
       "14           -0.008603 -0.056984    -0.051671  \n",
       "15           -0.015062 -0.004221    -0.015225  \n",
       "16                 NaN -0.001257    -0.001068  \n",
       "17           -0.000970 -0.038046    -0.038907  \n",
       "18           -0.001467 -0.032329    -0.026525  \n",
       "19                 NaN       NaN          NaN  \n",
       "20            0.029787       NaN     0.004106  \n",
       "21           -0.007831 -0.018629    -0.021722  \n",
       "22                 NaN       NaN    -0.007082  \n",
       "23           -0.047614 -0.020111    -0.002517  \n",
       "24            0.017594 -0.005242    -0.012615  \n",
       "25           -0.024438       NaN     0.008420  \n",
       "26           -0.007996       NaN          NaN  \n",
       "27           -0.023988       NaN    -0.003227  \n",
       "28           -0.003965 -0.005344    -0.003061  \n",
       "29                 NaN  0.009418     0.026251  \n",
       "30                 NaN       NaN     0.041103  \n",
       "31           -0.003580  0.006192     0.006778  \n",
       "32            0.018576       NaN          NaN  \n",
       "33            0.011426       NaN     0.005772  \n",
       "34                 NaN       NaN          NaN  \n",
       "35           -0.000194       NaN     0.004145  \n",
       "36                 NaN -0.003687          NaN  \n",
       "37                 NaN       NaN          NaN  "
      ]
     },
     "execution_count": 891,
     "metadata": {},
     "output_type": "execute_result"
    }
   ],
   "source": [
    "output = produce_lasso_table_for_DVs()\n",
    "output"
   ]
  },
  {
   "cell_type": "code",
   "execution_count": 892,
   "metadata": {},
   "outputs": [],
   "source": [
    "output.to_csv(\"output1.csv\")"
   ]
  },
  {
   "cell_type": "code",
   "execution_count": null,
   "metadata": {},
   "outputs": [],
   "source": [
    "#--------------------------"
   ]
  },
  {
   "cell_type": "code",
   "execution_count": 721,
   "metadata": {},
   "outputs": [],
   "source": [
    "outputtable = output.copy()"
   ]
  },
  {
   "cell_type": "code",
   "execution_count": 722,
   "metadata": {},
   "outputs": [],
   "source": [
    "outputtable.columns = ['Question',\n",
    "                      'election_listwise', 'imputed', \n",
    "                      'sys_capable_solving_probs', 'imputed',\n",
    "                      'proud_of_sys', 'imputed',\n",
    "                      'sys_deserves_support', 'imputed',\n",
    "                      'rather_live_this_than_other', 'imputed',\n",
    "                      'sys_changes_needed', 'imputed', \n",
    "                      'multi-party', 'imputed']"
   ]
  },
  {
   "cell_type": "markdown",
   "metadata": {},
   "source": [
    "# PART III. Binary Predictions using Logistic, SVM, and KNN"
   ]
  },
  {
   "cell_type": "code",
   "execution_count": 935,
   "metadata": {},
   "outputs": [],
   "source": [
    "from sklearn.linear_model import LogisticRegression\n",
    "from sklearn.svm import SVC\n",
    "from sklearn.neighbors import KNeighborsClassifier\n",
    "from sklearn.metrics import accuracy_score\n",
    "from sklearn.metrics import plot_confusion_matrix\n",
    "from sklearn.metrics import classification_report"
   ]
  },
  {
   "cell_type": "code",
   "execution_count": 894,
   "metadata": {},
   "outputs": [
    {
     "data": {
      "text/plain": [
       "Index(['q1', 'q2', 'q3', 'q4', 'q5', 'q6', 'q9', 'q15', 'q44', 'q49', 'q50',\n",
       "       'q51', 'q52', 'q56', 'q57', 'q105', 'q106', 'q107', 'q108', 'q109',\n",
       "       'q134', 'q135', 'q136', 'q155', 'q156', 'q157', 'q158', 'q159', 'age',\n",
       "       'gender', 'single', 'education', 'religiosity', 'unemployment',\n",
       "       'income', 'sub_social_status', 'rural', 'eth_minority', 'q82', 'q82a',\n",
       "       'q83', 'q84', 'q85', 'q86', 'q87', 'q131', 'election',\n",
       "       'election_imputed_median', 'sys_capable_solving_probs', 'proud_of_sys',\n",
       "       'sys_deserves_support', 'rather_live_this_than_other',\n",
       "       'sys_changes_needed', 'multi-party'],\n",
       "      dtype='object')"
      ]
     },
     "execution_count": 894,
     "metadata": {},
     "output_type": "execute_result"
    }
   ],
   "source": [
    "# this part of the project will work to predict people who have extreme attitudes \n",
    "df.columns"
   ]
  },
  {
   "cell_type": "markdown",
   "metadata": {},
   "source": [
    "## people who would support multi-party system"
   ]
  },
  {
   "cell_type": "code",
   "execution_count": 1180,
   "metadata": {},
   "outputs": [
    {
     "data": {
      "text/plain": [
       "2.0    1881\n",
       "3.0     801\n",
       "1.0     404\n",
       "4.0      95\n",
       "Name: q131, dtype: int64"
      ]
     },
     "execution_count": 1180,
     "metadata": {},
     "output_type": "execute_result"
    }
   ],
   "source": [
    "df['q131'].value_counts()"
   ]
  },
  {
   "cell_type": "code",
   "execution_count": 1176,
   "metadata": {},
   "outputs": [
    {
     "name": "stderr",
     "output_type": "stream",
     "text": [
      "<ipython-input-1176-9813b93a49fd>:4: SettingWithCopyWarning: \n",
      "A value is trying to be set on a copy of a slice from a DataFrame.\n",
      "Try using .loc[row_indexer,col_indexer] = value instead\n",
      "\n",
      "See the caveats in the documentation: https://pandas.pydata.org/pandas-docs/stable/user_guide/indexing.html#returning-a-view-versus-a-copy\n",
      "  X_y['multi_party_extreme'] = np.where(X_y['q131']>=3, 1, -1)\n"
     ]
    }
   ],
   "source": [
    "#X_y = df[~np.isnan(df['multi_party_extreme'])] \n",
    "X_y = df[~np.isnan(df['q131'])] \n",
    "\n",
    "X_y['multi_party_extreme'] = np.where(X_y['q131']>=3, 1, -1)\n",
    "\n",
    "X_y['multi_party_extreme'].value_counts()\n",
    "\n",
    "X = X_y.loc[:,'q1':'eth_minority']\n",
    "y = X_y['multi_party_extreme']\n",
    "\n",
    "X_train, X_test, y_train, y_test = train_test_split(X, y, test_size=0.30, random_state=1)"
   ]
  },
  {
   "cell_type": "code",
   "execution_count": 1173,
   "metadata": {},
   "outputs": [
    {
     "data": {
      "text/plain": [
       "-1    2094\n",
       " 1     816\n",
       "Name: extreme_changes_of_system, dtype: int64"
      ]
     },
     "execution_count": 1173,
     "metadata": {},
     "output_type": "execute_result"
    }
   ],
   "source": [
    "y.value_counts()"
   ]
  },
  {
   "cell_type": "markdown",
   "metadata": {},
   "source": [
    "### SVM "
   ]
  },
  {
   "cell_type": "code",
   "execution_count": 995,
   "metadata": {},
   "outputs": [
    {
     "data": {
      "image/png": "[encoded data removed]",
      "text/plain": [
       "<Figure size 432x288 with 1 Axes>"
      ]
     },
     "metadata": {
      "needs_background": "light"
     },
     "output_type": "display_data"
    },
    {
     "name": "stdout",
     "output_type": "stream",
     "text": [
      "The best parameter is: 69\n"
     ]
    },
    {
     "data": {
      "text/plain": [
       "69"
      ]
     },
     "execution_count": 995,
     "metadata": {},
     "output_type": "execute_result"
    }
   ],
   "source": [
    "param_range = [*range(50,100)]\n",
    "train_scores, test_scores = validation_curve(estimator=SVC(),\n",
    "                                             X=X_train,y=y_train,cv=3,\\\n",
    "                                             param_name=\"C\",\n",
    "                                             scoring=\"f1\",\n",
    "                                             #scoring=\"recall\",\n",
    "                                             param_range=param_range)\n",
    "\n",
    "plot_cross_validation_curve(param_range, train_scores, test_scores)\n",
    "\n",
    "best_para = parameter_cross_validation(param_range, train_scores, test_scores)\n",
    "svm = SVC(C=best_para)\n",
    "#svm = SVC(C=best_para,kernel='poly')\n",
    "svm.fit(X_train, y_train)\n",
    "test_accuracy = accuracy_score(y_test, svm.predict(X_test))\n",
    "print(test_accuracy)\n",
    "plot_confusion_matrix(svm, X_test, y_test)  \n",
    "plt.show()\n",
    "print(classification_report(y_test, svm.predict(X_test)))"
   ]
  },
  {
   "cell_type": "markdown",
   "metadata": {},
   "source": [
    "### KNN"
   ]
  },
  {
   "cell_type": "code",
   "execution_count": 1060,
   "metadata": {},
   "outputs": [
    {
     "data": {
      "image/png": "[encoded data removed]",
      "text/plain": [
       "<Figure size 432x288 with 1 Axes>"
      ]
     },
     "metadata": {
      "needs_background": "light"
     },
     "output_type": "display_data"
    },
    {
     "name": "stdout",
     "output_type": "stream",
     "text": [
      "The best parameter is: 1\n",
      "0.6418848167539267\n"
     ]
    },
    {
     "data": {
      "image/png": "[encoded data removed]",
      "text/plain": [
       "<Figure size 432x288 with 2 Axes>"
      ]
     },
     "metadata": {
      "needs_background": "light"
     },
     "output_type": "display_data"
    },
    {
     "name": "stdout",
     "output_type": "stream",
     "text": [
      "              precision    recall  f1-score   support\n",
      "\n",
      "          -1       0.73      0.78      0.76       679\n",
      "           1       0.36      0.29      0.32       276\n",
      "\n",
      "    accuracy                           0.64       955\n",
      "   macro avg       0.54      0.54      0.54       955\n",
      "weighted avg       0.62      0.64      0.63       955\n",
      "\n"
     ]
    }
   ],
   "source": [
    "KNN = KNeighborsClassifier\n",
    "param_range = [*range(1,200)]\n",
    "train_scores, test_scores = validation_curve(estimator=KNN(),\\\n",
    "                                             X=X_train,y=y_train,cv=3,\\\n",
    "                                             param_name=\"n_neighbors\",scoring=\"f1\",\n",
    "                                             param_range=param_range)\n",
    "plot_cross_validation_curve(param_range, train_scores, test_scores)\n",
    "best_para = parameter_cross_validation(param_range, train_scores, test_scores)\n",
    "\n",
    "KNN = KNeighborsClassifier(n_neighbors=best_para)\n",
    "KNN.fit(X_train, y_train)\n",
    "test_accuracy = accuracy_score(y_test, KNN.predict(X_test))\n",
    "print(test_accuracy)\n",
    "plot_confusion_matrix(KNN, X_test, y_test)  \n",
    "plt.show()\n",
    "print(classification_report(y_test, KNN.predict(X_test)))"
   ]
  },
  {
   "cell_type": "markdown",
   "metadata": {},
   "source": [
    "### Logistic "
   ]
  },
  {
   "cell_type": "code",
   "execution_count": 1059,
   "metadata": {},
   "outputs": [
    {
     "data": {
      "image/png": "[encoded data removed]",
      "text/plain": [
       "<Figure size 432x288 with 1 Axes>"
      ]
     },
     "metadata": {
      "needs_background": "light"
     },
     "output_type": "display_data"
    },
    {
     "name": "stdout",
     "output_type": "stream",
     "text": [
      "The best parameter is: 0.2782559402207126\n",
      "0.7277486910994765\n"
     ]
    },
    {
     "data": {
      "image/png": "[encoded data removed]",
      "text/plain": [
       "<Figure size 432x288 with 2 Axes>"
      ]
     },
     "metadata": {
      "needs_background": "light"
     },
     "output_type": "display_data"
    },
    {
     "name": "stdout",
     "output_type": "stream",
     "text": [
      "              precision    recall  f1-score   support\n",
      "\n",
      "          -1       0.75      0.92      0.83       679\n",
      "           1       0.57      0.24      0.34       276\n",
      "\n",
      "    accuracy                           0.73       955\n",
      "   macro avg       0.66      0.58      0.58       955\n",
      "weighted avg       0.70      0.73      0.69       955\n",
      "\n"
     ]
    }
   ],
   "source": [
    "logisticRegr = LogisticRegression(max_iter=10000)\n",
    "param_range = np.logspace(-10,1, 100)\n",
    "train_scores, test_scores = validation_curve(estimator=logisticRegr,\\\n",
    "                                             X=X_train,y=y_train,cv=3,\\\n",
    "                                             param_name=\"C\",scoring=\"f1\",\n",
    "                                             param_range=param_range)\n",
    "plot_cross_validation_curve(param_range, train_scores, test_scores)\n",
    "\n",
    "best_para = parameter_cross_validation(param_range, train_scores, test_scores)\n",
    "\n",
    "logisticRegr = LogisticRegression(max_iter=10000, C=best_para)\n",
    "logisticRegr.fit(X_train, y_train)\n",
    "test_accuracy = accuracy_score(y_test, logisticRegr.predict(X_test))\n",
    "print(test_accuracy)\n",
    "plot_confusion_matrix(logisticRegr, X_test, y_test)  \n",
    "plt.show()\n",
    "print(classification_report(y_test, logisticRegr.predict(X_test)))"
   ]
  },
  {
   "cell_type": "markdown",
   "metadata": {},
   "source": [
    "### Random Forest Classifier"
   ]
  },
  {
   "cell_type": "code",
   "execution_count": null,
   "metadata": {},
   "outputs": [],
   "source": [
    "rf_clf = RandomForestClassifier()\n",
    "\n",
    "param_range = [*range(1,100)]\n",
    "train_scores, test_scores = validation_curve(estimator=rf_clf,\\\n",
    "                                             X=X_train,y=y_train,cv=3,\\\n",
    "                                             param_name=\"n_estimators\",\n",
    "                                             scoring=\"recall\",\n",
    "                                             param_range=param_range)\n",
    "\n",
    "plot_cross_validation_curve(param_range, train_scores, test_scores)\n",
    "\n",
    "best_para = parameter_cross_validation(param_range, train_scores, test_scores)\n",
    "\n",
    "rf_clf = RandomForestClassifier(n_estimators=best_para)\n",
    "rf_clf.fit(X_train, y_train)\n",
    "test_accuracy = accuracy_score(y_test, rf_clf.predict(X_test))\n",
    "print(test_accuracy)\n",
    "plot_confusion_matrix(rf_clf, X_test, y_test)  \n",
    "plt.show()\n",
    "print(classification_report(y_test, rf_clf.predict(X_test)))"
   ]
  },
  {
   "cell_type": "markdown",
   "metadata": {},
   "source": [
    "## predict people who think major change or replacement is needed for system of gov't"
   ]
  },
  {
   "cell_type": "code",
   "execution_count": 1166,
   "metadata": {},
   "outputs": [
    {
     "data": {
      "text/plain": [
       "2.0    1720\n",
       "3.0     562\n",
       "1.0     374\n",
       "4.0     254\n",
       "Name: q87, dtype: int64"
      ]
     },
     "execution_count": 1166,
     "metadata": {},
     "output_type": "execute_result"
    }
   ],
   "source": [
    "df['q87'].value_counts()"
   ]
  },
  {
   "cell_type": "code",
   "execution_count": 1172,
   "metadata": {},
   "outputs": [
    {
     "data": {
      "text/plain": [
       "0.20058997050147492"
      ]
     },
     "execution_count": 1172,
     "metadata": {},
     "output_type": "execute_result"
    }
   ],
   "source": [
    "(562+254)/(4068)"
   ]
  },
  {
   "cell_type": "code",
   "execution_count": 1119,
   "metadata": {},
   "outputs": [
    {
     "name": "stderr",
     "output_type": "stream",
     "text": [
      "<ipython-input-1119-43d34754823b>:7: SettingWithCopyWarning: \n",
      "A value is trying to be set on a copy of a slice from a DataFrame.\n",
      "Try using .loc[row_indexer,col_indexer] = value instead\n",
      "\n",
      "See the caveats in the documentation: https://pandas.pydata.org/pandas-docs/stable/user_guide/indexing.html#returning-a-view-versus-a-copy\n",
      "  X_y['extreme_changes_of_system'] = np.where(X_y['q87']>=3, 1, -1)\n"
     ]
    }
   ],
   "source": [
    "# to do the prediction on another output variable sys_changes_needed\n",
    "\n",
    "#X_y = df[~np.isnan(df['sys_changes_needed'])] \n",
    "#X_y['extreme_changes_of_system'] = np.where(X_y['sys_changes_needed']>=3, 1, -1)\n",
    "\n",
    "X_y = df[~np.isnan(df['q87'])] \n",
    "X_y['extreme_changes_of_system'] = np.where(X_y['q87']>=3, 1, -1)\n",
    "\n",
    "X_y['extreme_changes_of_system'].value_counts()\n",
    "\n",
    "X = X_y.loc[:,'q1':'eth_minority']\n",
    "y = X_y['extreme_changes_of_system']\n",
    "\n",
    "X_train, X_test, y_train, y_test = train_test_split(X, y, test_size=0.30, random_state=1)"
   ]
  },
  {
   "cell_type": "markdown",
   "metadata": {},
   "source": [
    "### SVM "
   ]
  },
  {
   "cell_type": "code",
   "execution_count": 1204,
   "metadata": {},
   "outputs": [
    {
     "data": {
      "image/png": "[encoded data removed]",
      "text/plain": [
       "<Figure size 432x288 with 1 Axes>"
      ]
     },
     "metadata": {
      "needs_background": "light"
     },
     "output_type": "display_data"
    },
    {
     "name": "stdout",
     "output_type": "stream",
     "text": [
      "The best parameter is: 151\n",
      "0.6565445026178011\n"
     ]
    },
    {
     "data": {
      "image/png": "[encoded data removed]",
      "text/plain": [
       "<Figure size 432x288 with 2 Axes>"
      ]
     },
     "metadata": {
      "needs_background": "light"
     },
     "output_type": "display_data"
    },
    {
     "name": "stdout",
     "output_type": "stream",
     "text": [
      "              precision    recall  f1-score   support\n",
      "\n",
      "          -1       0.81      0.67      0.74       679\n",
      "           1       0.43      0.62      0.51       276\n",
      "\n",
      "    accuracy                           0.66       955\n",
      "   macro avg       0.62      0.64      0.62       955\n",
      "weighted avg       0.70      0.66      0.67       955\n",
      "\n"
     ]
    }
   ],
   "source": [
    "param_range = [*range(150,200)]\n",
    "train_scores, test_scores = validation_curve(estimator=SVC(class_weight='balanced'),\n",
    "                                             X=X_train,y=y_train,cv=5,\\\n",
    "                                             param_name=\"C\",\n",
    "                                             scoring=\"accuracy\",\n",
    "                                             #scoring=\"f1\",\n",
    "                                             #scoring=\"recall\",\n",
    "                                             #scoring='precision',\n",
    "                                             param_range=param_range)\n",
    "\n",
    "plot_cross_validation_curve(param_range, train_scores, test_scores)\n",
    "\n",
    "best_para = parameter_cross_validation(param_range, train_scores, test_scores)\n",
    "svm = SVC(C=best_para,class_weight='balanced')\n",
    "svm.fit(X_train, y_train)\n",
    "test_accuracy = accuracy_score(y_test, svm.predict(X_test))\n",
    "print(test_accuracy)\n",
    "plot_confusion_matrix(svm, X_test, y_test)  \n",
    "plt.show()\n",
    "print(classification_report(y_test, svm.predict(X_test)))"
   ]
  },
  {
   "cell_type": "code",
   "execution_count": 1205,
   "metadata": {},
   "outputs": [
    {
     "data": {
      "image/png": "[encoded data removed]",
      "text/plain": [
       "<Figure size 432x288 with 1 Axes>"
      ]
     },
     "metadata": {
      "needs_background": "light"
     },
     "output_type": "display_data"
    },
    {
     "name": "stdout",
     "output_type": "stream",
     "text": [
      "The best parameter is: 191\n",
      "0.6575916230366492\n"
     ]
    },
    {
     "data": {
      "image/png": "[encoded data removed]",
      "text/plain": [
       "<Figure size 432x288 with 2 Axes>"
      ]
     },
     "metadata": {
      "needs_background": "light"
     },
     "output_type": "display_data"
    },
    {
     "name": "stdout",
     "output_type": "stream",
     "text": [
      "              precision    recall  f1-score   support\n",
      "\n",
      "          -1       0.81      0.67      0.74       679\n",
      "           1       0.43      0.62      0.51       276\n",
      "\n",
      "    accuracy                           0.66       955\n",
      "   macro avg       0.62      0.65      0.62       955\n",
      "weighted avg       0.70      0.66      0.67       955\n",
      "\n"
     ]
    }
   ],
   "source": [
    "param_range = [*range(150,200)]\n",
    "train_scores, test_scores = validation_curve(estimator=SVC(class_weight='balanced'),\n",
    "                                             X=X_train,y=y_train,cv=5,\\\n",
    "                                             param_name=\"C\",\n",
    "                                             #scoring=\"accuracy\",\n",
    "                                             scoring=\"f1\",\n",
    "                                             #scoring=\"recall\",\n",
    "                                             #scoring='precision',\n",
    "                                             param_range=param_range)\n",
    "\n",
    "plot_cross_validation_curve(param_range, train_scores, test_scores)\n",
    "\n",
    "best_para = parameter_cross_validation(param_range, train_scores, test_scores)\n",
    "svm = SVC(C=best_para,class_weight='balanced')\n",
    "svm.fit(X_train, y_train)\n",
    "test_accuracy = accuracy_score(y_test, svm.predict(X_test))\n",
    "print(test_accuracy)\n",
    "plot_confusion_matrix(svm, X_test, y_test)  \n",
    "plt.show()\n",
    "print(classification_report(y_test, svm.predict(X_test)))"
   ]
  },
  {
   "cell_type": "code",
   "execution_count": 1206,
   "metadata": {},
   "outputs": [
    {
     "data": {
      "image/png": "[encoded data removed]",
      "text/plain": [
       "<Figure size 432x288 with 1 Axes>"
      ]
     },
     "metadata": {
      "needs_background": "light"
     },
     "output_type": "display_data"
    },
    {
     "name": "stdout",
     "output_type": "stream",
     "text": [
      "The best parameter is: 151\n",
      "0.6565445026178011\n"
     ]
    },
    {
     "data": {
      "image/png": "[encoded data removed]",
      "text/plain": [
       "<Figure size 432x288 with 2 Axes>"
      ]
     },
     "metadata": {
      "needs_background": "light"
     },
     "output_type": "display_data"
    },
    {
     "name": "stdout",
     "output_type": "stream",
     "text": [
      "              precision    recall  f1-score   support\n",
      "\n",
      "          -1       0.81      0.67      0.74       679\n",
      "           1       0.43      0.62      0.51       276\n",
      "\n",
      "    accuracy                           0.66       955\n",
      "   macro avg       0.62      0.64      0.62       955\n",
      "weighted avg       0.70      0.66      0.67       955\n",
      "\n"
     ]
    }
   ],
   "source": [
    "param_range = [*range(150,200)]\n",
    "train_scores, test_scores = validation_curve(estimator=SVC(class_weight='balanced'),\n",
    "                                             X=X_train,y=y_train,cv=5,\\\n",
    "                                             param_name=\"C\",\n",
    "                                             #scoring=\"accuracy\",\n",
    "                                             #scoring=\"f1\",\n",
    "                                             scoring='precision',\n",
    "                                             param_range=param_range)\n",
    "\n",
    "plot_cross_validation_curve(param_range, train_scores, test_scores)\n",
    "\n",
    "best_para = parameter_cross_validation(param_range, train_scores, test_scores)\n",
    "svm = SVC(C=best_para,class_weight='balanced')\n",
    "svm.fit(X_train, y_train)\n",
    "test_accuracy = accuracy_score(y_test, svm.predict(X_test))\n",
    "print(test_accuracy)\n",
    "plot_confusion_matrix(svm, X_test, y_test)  \n",
    "plt.show()\n",
    "print(classification_report(y_test, svm.predict(X_test)))"
   ]
  },
  {
   "cell_type": "code",
   "execution_count": 1207,
   "metadata": {},
   "outputs": [
    {
     "data": {
      "image/png": "[encoded data removed]",
      "text/plain": [
       "<Figure size 432x288 with 1 Axes>"
      ]
     },
     "metadata": {
      "needs_background": "light"
     },
     "output_type": "display_data"
    },
    {
     "name": "stdout",
     "output_type": "stream",
     "text": [
      "The best parameter is: 191\n",
      "0.6575916230366492\n"
     ]
    },
    {
     "data": {
      "image/png": "[encoded data removed]",
      "text/plain": [
       "<Figure size 432x288 with 2 Axes>"
      ]
     },
     "metadata": {
      "needs_background": "light"
     },
     "output_type": "display_data"
    },
    {
     "name": "stdout",
     "output_type": "stream",
     "text": [
      "              precision    recall  f1-score   support\n",
      "\n",
      "          -1       0.81      0.67      0.74       679\n",
      "           1       0.43      0.62      0.51       276\n",
      "\n",
      "    accuracy                           0.66       955\n",
      "   macro avg       0.62      0.65      0.62       955\n",
      "weighted avg       0.70      0.66      0.67       955\n",
      "\n"
     ]
    }
   ],
   "source": [
    "param_range = [*range(150,200)]\n",
    "train_scores, test_scores = validation_curve(estimator=SVC(class_weight='balanced'),\n",
    "                                             X=X_train,y=y_train,cv=5,\\\n",
    "                                             param_name=\"C\",\n",
    "                                             #scoring=\"accuracy\",\n",
    "                                             #scoring=\"f1\",\n",
    "                                             #scoring=\"recall\",\n",
    "                                             scoring='recall',\n",
    "                                             param_range=param_range)\n",
    "\n",
    "plot_cross_validation_curve(param_range, train_scores, test_scores)\n",
    "\n",
    "best_para = parameter_cross_validation(param_range, train_scores, test_scores)\n",
    "svm = SVC(C=best_para,class_weight='balanced')\n",
    "svm.fit(X_train, y_train)\n",
    "test_accuracy = accuracy_score(y_test, svm.predict(X_test))\n",
    "print(test_accuracy)\n",
    "plot_confusion_matrix(svm, X_test, y_test)  \n",
    "plt.show()\n",
    "print(classification_report(y_test, svm.predict(X_test)))"
   ]
  },
  {
   "cell_type": "markdown",
   "metadata": {},
   "source": [
    "### KNN "
   ]
  },
  {
   "cell_type": "code",
   "execution_count": 1217,
   "metadata": {},
   "outputs": [
    {
     "data": {
      "image/png": "[encoded data removed]",
      "text/plain": [
       "<Figure size 432x288 with 1 Axes>"
      ]
     },
     "metadata": {
      "needs_background": "light"
     },
     "output_type": "display_data"
    },
    {
     "name": "stdout",
     "output_type": "stream",
     "text": [
      "The best parameter is: 43\n",
      "0.6984293193717277\n"
     ]
    },
    {
     "data": {
      "image/png": "[encoded data removed]",
      "text/plain": [
       "<Figure size 432x288 with 2 Axes>"
      ]
     },
     "metadata": {
      "needs_background": "light"
     },
     "output_type": "display_data"
    },
    {
     "name": "stdout",
     "output_type": "stream",
     "text": [
      "              precision    recall  f1-score   support\n",
      "\n",
      "          -1       0.73      0.92      0.81       679\n",
      "           1       0.43      0.14      0.21       276\n",
      "\n",
      "    accuracy                           0.70       955\n",
      "   macro avg       0.58      0.53      0.51       955\n",
      "weighted avg       0.64      0.70      0.64       955\n",
      "\n"
     ]
    }
   ],
   "source": [
    "KNN = KNeighborsClassifier\n",
    "param_range = [*range(1,50)]\n",
    "train_scores, test_scores = validation_curve(estimator=KNN(),\\\n",
    "                                             X=X_train,y=y_train,cv=5,\\\n",
    "                                             param_name=\"n_neighbors\",\n",
    "                                             scoring = 'accuracy',\n",
    "                                             #scoring=\"f1\",\n",
    "                                             #scoring='recall',\n",
    "                                             #scoring = 'precision',\n",
    "                                             param_range=param_range)\n",
    "plot_cross_validation_curve(param_range, train_scores, test_scores)\n",
    "best_para = parameter_cross_validation(param_range, train_scores, test_scores)\n",
    "\n",
    "KNN = KNeighborsClassifier(n_neighbors=best_para)\n",
    "KNN.fit(X_train, y_train)\n",
    "test_accuracy = accuracy_score(y_test, KNN.predict(X_test))\n",
    "print(test_accuracy)\n",
    "plot_confusion_matrix(KNN, X_test, y_test)  \n",
    "plt.show()\n",
    "print(classification_report(y_test, KNN.predict(X_test)))"
   ]
  },
  {
   "cell_type": "markdown",
   "metadata": {},
   "source": [
    "### Logistic Regression "
   ]
  },
  {
   "cell_type": "code",
   "execution_count": 1220,
   "metadata": {},
   "outputs": [
    {
     "data": {
      "image/png": "[encoded data removed]",
      "text/plain": [
       "<Figure size 432x288 with 1 Axes>"
      ]
     },
     "metadata": {
      "needs_background": "light"
     },
     "output_type": "display_data"
    },
    {
     "name": "stdout",
     "output_type": "stream",
     "text": [
      "The best parameter is: 7.847599703514623e-26\n",
      "0.7109947643979058\n"
     ]
    },
    {
     "data": {
      "image/png": "[encoded data removed]",
      "text/plain": [
       "<Figure size 432x288 with 2 Axes>"
      ]
     },
     "metadata": {
      "needs_background": "light"
     },
     "output_type": "display_data"
    },
    {
     "name": "stdout",
     "output_type": "stream",
     "text": [
      "              precision    recall  f1-score   support\n",
      "\n",
      "          -1       0.71      1.00      0.83       679\n",
      "           1       0.00      0.00      0.00       276\n",
      "\n",
      "    accuracy                           0.71       955\n",
      "   macro avg       0.36      0.50      0.42       955\n",
      "weighted avg       0.51      0.71      0.59       955\n",
      "\n"
     ]
    },
    {
     "name": "stderr",
     "output_type": "stream",
     "text": [
      "C:\\Users\\zhong\\Anaconda3\\lib\\site-packages\\sklearn\\metrics\\_classification.py:1221: UndefinedMetricWarning: Precision and F-score are ill-defined and being set to 0.0 in labels with no predicted samples. Use `zero_division` parameter to control this behavior.\n",
      "  _warn_prf(average, modifier, msg_start, len(result))\n"
     ]
    }
   ],
   "source": [
    "logisticRegr = LogisticRegression(max_iter=10000,class_weight='balanced')\n",
    "param_range = np.logspace(-30,1, 10)\n",
    "train_scores, test_scores = validation_curve(estimator=logisticRegr,\\\n",
    "                                             X=X_train,y=y_train,cv=5,\\\n",
    "                                             param_name=\"C\",\n",
    "                                             scoring=\"accuracy\",\n",
    "                                             #scoring=\"f1\",\n",
    "                                             #scoring=\"precision\",\n",
    "                                             #scoring=\"recall\",\n",
    "                                             param_range=param_range)\n",
    "plot_cross_validation_curve(param_range, train_scores, test_scores)\n",
    "\n",
    "best_para = parameter_cross_validation(param_range, train_scores, test_scores)\n",
    "\n",
    "logisticRegr = LogisticRegression(max_iter=10000, C=best_para,class_weight='balanced')\n",
    "logisticRegr.fit(X_train, y_train)\n",
    "test_accuracy = accuracy_score(y_test, logisticRegr.predict(X_test))\n",
    "print(test_accuracy)\n",
    "plot_confusion_matrix(logisticRegr, X_test, y_test)  \n",
    "plt.show()\n",
    "print(classification_report(y_test, logisticRegr.predict(X_test)))"
   ]
  },
  {
   "cell_type": "markdown",
   "metadata": {},
   "source": [
    "###  Random Forest Classifier"
   ]
  },
  {
   "cell_type": "code",
   "execution_count": 1092,
   "metadata": {},
   "outputs": [],
   "source": [
    "from sklearn.ensemble import RandomForestClassifier"
   ]
  },
  {
   "cell_type": "code",
   "execution_count": 1221,
   "metadata": {},
   "outputs": [
    {
     "data": {
      "image/png": "[encoded data removed]",
      "text/plain": [
       "<Figure size 432x288 with 1 Axes>"
      ]
     },
     "metadata": {
      "needs_background": "light"
     },
     "output_type": "display_data"
    },
    {
     "name": "stdout",
     "output_type": "stream",
     "text": [
      "The best parameter is: 28\n",
      "0.7130890052356021\n"
     ]
    },
    {
     "data": {
      "image/png": "[encoded data removed]",
      "text/plain": [
       "<Figure size 432x288 with 2 Axes>"
      ]
     },
     "metadata": {
      "needs_background": "light"
     },
     "output_type": "display_data"
    },
    {
     "name": "stdout",
     "output_type": "stream",
     "text": [
      "              precision    recall  f1-score   support\n",
      "\n",
      "          -1       0.73      0.94      0.82       679\n",
      "           1       0.51      0.16      0.24       276\n",
      "\n",
      "    accuracy                           0.71       955\n",
      "   macro avg       0.62      0.55      0.53       955\n",
      "weighted avg       0.67      0.71      0.66       955\n",
      "\n"
     ]
    }
   ],
   "source": [
    "rf_clf = RandomForestClassifier(class_weight='balanced')\n",
    "\n",
    "param_range = [*range(1,30)]\n",
    "train_scores, test_scores = validation_curve(estimator=rf_clf,\\\n",
    "                                             X=X_train,y=y_train,cv=5,\\\n",
    "                                             param_name=\"n_estimators\",\n",
    "                                             scoring=\"accuracy\",\n",
    "                                             #scoring=\"precision\",\n",
    "                                             #scoring=\"recall\",\n",
    "                                             #scoring=\"f1\",\n",
    "                                             param_range=param_range)\n",
    "\n",
    "plot_cross_validation_curve(param_range, train_scores, test_scores)\n",
    "\n",
    "best_para = parameter_cross_validation(param_range, train_scores, test_scores)\n",
    "\n",
    "rf_clf = RandomForestClassifier(n_estimators=best_para, class_weight='balanced')\n",
    "rf_clf.fit(X_train, y_train)\n",
    "test_accuracy = accuracy_score(y_test, rf_clf.predict(X_test))\n",
    "print(test_accuracy)\n",
    "plot_confusion_matrix(rf_clf, X_test, y_test)  \n",
    "plt.show()\n",
    "print(classification_report(y_test, rf_clf.predict(X_test)))"
   ]
  },
  {
   "cell_type": "code",
   "execution_count": 1209,
   "metadata": {},
   "outputs": [
    {
     "data": {
      "image/png": "[encoded data removed]",
      "text/plain": [
       "<Figure size 432x288 with 1 Axes>"
      ]
     },
     "metadata": {
      "needs_background": "light"
     },
     "output_type": "display_data"
    },
    {
     "name": "stdout",
     "output_type": "stream",
     "text": [
      "The best parameter is: 8\n",
      "0.6931937172774869\n"
     ]
    },
    {
     "data": {
      "image/png": "[encoded data removed]",
      "text/plain": [
       "<Figure size 432x288 with 2 Axes>"
      ]
     },
     "metadata": {
      "needs_background": "light"
     },
     "output_type": "display_data"
    },
    {
     "name": "stdout",
     "output_type": "stream",
     "text": [
      "              precision    recall  f1-score   support\n",
      "\n",
      "          -1       0.73      0.90      0.81       679\n",
      "           1       0.43      0.18      0.25       276\n",
      "\n",
      "    accuracy                           0.69       955\n",
      "   macro avg       0.58      0.54      0.53       955\n",
      "weighted avg       0.64      0.69      0.65       955\n",
      "\n"
     ]
    }
   ],
   "source": [
    "rf_clf = RandomForestClassifier(class_weight='balanced')\n",
    "\n",
    "param_range = [*range(1,10)]\n",
    "train_scores, test_scores = validation_curve(estimator=rf_clf,\\\n",
    "                                             X=X_train,y=y_train,cv=5,\\\n",
    "                                             param_name=\"n_estimators\",\n",
    "                                             #scoring=\"accuracy\",\n",
    "                                             scoring=\"precision\",\n",
    "                                             #scoring=\"recall\",\n",
    "                                             #scoring=\"f1\",\n",
    "                                             param_range=param_range)\n",
    "\n",
    "plot_cross_validation_curve(param_range, train_scores, test_scores)\n",
    "\n",
    "best_para = parameter_cross_validation(param_range, train_scores, test_scores)\n",
    "\n",
    "rf_clf = RandomForestClassifier(n_estimators=best_para, class_weight='balanced')\n",
    "rf_clf.fit(X_train, y_train)\n",
    "test_accuracy = accuracy_score(y_test, rf_clf.predict(X_test))\n",
    "print(test_accuracy)\n",
    "plot_confusion_matrix(rf_clf, X_test, y_test)  \n",
    "plt.show()\n",
    "print(classification_report(y_test, rf_clf.predict(X_test)))"
   ]
  },
  {
   "cell_type": "code",
   "execution_count": 1210,
   "metadata": {},
   "outputs": [
    {
     "data": {
      "image/png": "[encoded data removed]",
      "text/plain": [
       "<Figure size 432x288 with 1 Axes>"
      ]
     },
     "metadata": {
      "needs_background": "light"
     },
     "output_type": "display_data"
    },
    {
     "name": "stdout",
     "output_type": "stream",
     "text": [
      "The best parameter is: 1\n",
      "0.631413612565445\n"
     ]
    },
    {
     "data": {
      "image/png": "[encoded data removed]",
      "text/plain": [
       "<Figure size 432x288 with 2 Axes>"
      ]
     },
     "metadata": {
      "needs_background": "light"
     },
     "output_type": "display_data"
    },
    {
     "name": "stdout",
     "output_type": "stream",
     "text": [
      "              precision    recall  f1-score   support\n",
      "\n",
      "          -1       0.74      0.75      0.74       679\n",
      "           1       0.35      0.33      0.34       276\n",
      "\n",
      "    accuracy                           0.63       955\n",
      "   macro avg       0.54      0.54      0.54       955\n",
      "weighted avg       0.63      0.63      0.63       955\n",
      "\n"
     ]
    }
   ],
   "source": [
    "rf_clf = RandomForestClassifier(class_weight='balanced')\n",
    "\n",
    "param_range = [*range(1,10)]\n",
    "train_scores, test_scores = validation_curve(estimator=rf_clf,\\\n",
    "                                             X=X_train,y=y_train,cv=5,\\\n",
    "                                             param_name=\"n_estimators\",\n",
    "                                             #scoring=\"accuracy\",\n",
    "                                             #scoring=\"precision\",\n",
    "                                             scoring=\"recall\",\n",
    "                                             #scoring=\"f1\",\n",
    "                                             param_range=param_range)\n",
    "\n",
    "plot_cross_validation_curve(param_range, train_scores, test_scores)\n",
    "\n",
    "best_para = parameter_cross_validation(param_range, train_scores, test_scores)\n",
    "\n",
    "rf_clf = RandomForestClassifier(n_estimators=best_para, class_weight='balanced')\n",
    "rf_clf.fit(X_train, y_train)\n",
    "test_accuracy = accuracy_score(y_test, rf_clf.predict(X_test))\n",
    "print(test_accuracy)\n",
    "plot_confusion_matrix(rf_clf, X_test, y_test)  \n",
    "plt.show()\n",
    "print(classification_report(y_test, rf_clf.predict(X_test)))"
   ]
  },
  {
   "cell_type": "code",
   "execution_count": 1211,
   "metadata": {},
   "outputs": [
    {
     "data": {
      "image/png": "[encoded data removed]",
      "text/plain": [
       "<Figure size 432x288 with 1 Axes>"
      ]
     },
     "metadata": {
      "needs_background": "light"
     },
     "output_type": "display_data"
    },
    {
     "name": "stdout",
     "output_type": "stream",
     "text": [
      "The best parameter is: 1\n",
      "0.6397905759162303\n"
     ]
    },
    {
     "data": {
      "image/png": "[encoded data removed]",
      "text/plain": [
       "<Figure size 432x288 with 2 Axes>"
      ]
     },
     "metadata": {
      "needs_background": "light"
     },
     "output_type": "display_data"
    },
    {
     "name": "stdout",
     "output_type": "stream",
     "text": [
      "              precision    recall  f1-score   support\n",
      "\n",
      "          -1       0.74      0.76      0.75       679\n",
      "           1       0.37      0.35      0.36       276\n",
      "\n",
      "    accuracy                           0.64       955\n",
      "   macro avg       0.56      0.55      0.55       955\n",
      "weighted avg       0.63      0.64      0.64       955\n",
      "\n"
     ]
    }
   ],
   "source": [
    "rf_clf = RandomForestClassifier(class_weight='balanced')\n",
    "\n",
    "param_range = [*range(1,10)]\n",
    "train_scores, test_scores = validation_curve(estimator=rf_clf,\\\n",
    "                                             X=X_train,y=y_train,cv=5,\\\n",
    "                                             param_name=\"n_estimators\",\n",
    "                                             #scoring=\"accuracy\",\n",
    "                                             #scoring=\"precision\",\n",
    "                                             #scoring=\"recall\",\n",
    "                                             scoring=\"f1\",\n",
    "                                             param_range=param_range)\n",
    "\n",
    "plot_cross_validation_curve(param_range, train_scores, test_scores)\n",
    "\n",
    "best_para = parameter_cross_validation(param_range, train_scores, test_scores)\n",
    "\n",
    "rf_clf = RandomForestClassifier(n_estimators=best_para, class_weight='balanced')\n",
    "rf_clf.fit(X_train, y_train)\n",
    "test_accuracy = accuracy_score(y_test, rf_clf.predict(X_test))\n",
    "print(test_accuracy)\n",
    "plot_confusion_matrix(rf_clf, X_test, y_test)  \n",
    "plt.show()\n",
    "print(classification_report(y_test, rf_clf.predict(X_test)))"
   ]
  },
  {
   "cell_type": "code",
   "execution_count": 1227,
   "metadata": {},
   "outputs": [
    {
     "ename": "SyntaxError",
     "evalue": "invalid syntax (<ipython-input-1227-07402810783e>, line 1)",
     "output_type": "error",
     "traceback": [
      "\u001b[1;36m  File \u001b[1;32m\"<ipython-input-1227-07402810783e>\"\u001b[1;36m, line \u001b[1;32m1\u001b[0m\n\u001b[1;33m    jupyter nbconvert# --to html Final Project, Financial Data Analysis.ipynb\u001b[0m\n\u001b[1;37m            ^\u001b[0m\n\u001b[1;31mSyntaxError\u001b[0m\u001b[1;31m:\u001b[0m invalid syntax\n"
     ]
    }
   ],
   "source": [
    "jupyter nbconvert --to html Final Project, Financial Data Analysis.ipynb\n",
    "pandoc -s Final Project, Financial Data Analysis.html -o my_notebook.docx"
   ]
  }
 ],
 "metadata": {
  "kernelspec": {
   "display_name": "Python 3",
   "language": "python",
   "name": "python3"
  },
  "language_info": {
   "codemirror_mode": {
    "name": "ipython",
    "version": 3
   },
   "file_extension": ".py",
   "mimetype": "text/x-python",
   "name": "python",
   "nbconvert_exporter": "python",
   "pygments_lexer": "ipython3",
   "version": "3.8.3"
  }
 },
 "nbformat": 4,
 "nbformat_minor": 4
}
